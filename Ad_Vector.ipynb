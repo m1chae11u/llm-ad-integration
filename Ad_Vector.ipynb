{
  "nbformat": 4,
  "nbformat_minor": 0,
  "metadata": {
    "colab": {
      "provenance": []
    },
    "kernelspec": {
      "name": "python3",
      "display_name": "Python 3"
    },
    "language_info": {
      "name": "python"
    }
  },
  "cells": [
    {
      "cell_type": "markdown",
      "source": [
        "#Build and Save FAISS Index"
      ],
      "metadata": {
        "id": "2yPRP7QkTUAo"
      }
    },
    {
      "cell_type": "markdown",
      "source": [
        "### This program will embed vectors and can store and retrieve ads based on how similar they are to a given prompt or context"
      ],
      "metadata": {
        "id": "ZbSG7r2ET0G-"
      }
    },
    {
      "cell_type": "markdown",
      "source": [
        "## Installation & Import"
      ],
      "metadata": {
        "id": "jYZ8AK5WM3LW"
      }
    },
    {
      "cell_type": "code",
      "execution_count": 1,
      "metadata": {
        "colab": {
          "base_uri": "https://localhost:8080/"
        },
        "id": "77FFz9BJHOXx",
        "outputId": "779f8513-a349-46e4-9115-9eb97822069b"
      },
      "outputs": [
        {
          "output_type": "stream",
          "name": "stdout",
          "text": [
            "Requirement already satisfied: openai in /usr/local/lib/python3.11/dist-packages (1.70.0)\n",
            "Requirement already satisfied: faiss-cpu in /usr/local/lib/python3.11/dist-packages (1.10.0)\n",
            "Requirement already satisfied: pandas in /usr/local/lib/python3.11/dist-packages (2.2.2)\n",
            "Requirement already satisfied: anyio<5,>=3.5.0 in /usr/local/lib/python3.11/dist-packages (from openai) (4.9.0)\n",
            "Requirement already satisfied: distro<2,>=1.7.0 in /usr/local/lib/python3.11/dist-packages (from openai) (1.9.0)\n",
            "Requirement already satisfied: httpx<1,>=0.23.0 in /usr/local/lib/python3.11/dist-packages (from openai) (0.28.1)\n",
            "Requirement already satisfied: jiter<1,>=0.4.0 in /usr/local/lib/python3.11/dist-packages (from openai) (0.9.0)\n",
            "Requirement already satisfied: pydantic<3,>=1.9.0 in /usr/local/lib/python3.11/dist-packages (from openai) (2.11.1)\n",
            "Requirement already satisfied: sniffio in /usr/local/lib/python3.11/dist-packages (from openai) (1.3.1)\n",
            "Requirement already satisfied: tqdm>4 in /usr/local/lib/python3.11/dist-packages (from openai) (4.67.1)\n",
            "Requirement already satisfied: typing-extensions<5,>=4.11 in /usr/local/lib/python3.11/dist-packages (from openai) (4.13.0)\n",
            "Requirement already satisfied: numpy<3.0,>=1.25.0 in /usr/local/lib/python3.11/dist-packages (from faiss-cpu) (2.0.2)\n",
            "Requirement already satisfied: packaging in /usr/local/lib/python3.11/dist-packages (from faiss-cpu) (24.2)\n",
            "Requirement already satisfied: python-dateutil>=2.8.2 in /usr/local/lib/python3.11/dist-packages (from pandas) (2.8.2)\n",
            "Requirement already satisfied: pytz>=2020.1 in /usr/local/lib/python3.11/dist-packages (from pandas) (2025.2)\n",
            "Requirement already satisfied: tzdata>=2022.7 in /usr/local/lib/python3.11/dist-packages (from pandas) (2025.2)\n",
            "Requirement already satisfied: idna>=2.8 in /usr/local/lib/python3.11/dist-packages (from anyio<5,>=3.5.0->openai) (3.10)\n",
            "Requirement already satisfied: certifi in /usr/local/lib/python3.11/dist-packages (from httpx<1,>=0.23.0->openai) (2025.1.31)\n",
            "Requirement already satisfied: httpcore==1.* in /usr/local/lib/python3.11/dist-packages (from httpx<1,>=0.23.0->openai) (1.0.7)\n",
            "Requirement already satisfied: h11<0.15,>=0.13 in /usr/local/lib/python3.11/dist-packages (from httpcore==1.*->httpx<1,>=0.23.0->openai) (0.14.0)\n",
            "Requirement already satisfied: annotated-types>=0.6.0 in /usr/local/lib/python3.11/dist-packages (from pydantic<3,>=1.9.0->openai) (0.7.0)\n",
            "Requirement already satisfied: pydantic-core==2.33.0 in /usr/local/lib/python3.11/dist-packages (from pydantic<3,>=1.9.0->openai) (2.33.0)\n",
            "Requirement already satisfied: typing-inspection>=0.4.0 in /usr/local/lib/python3.11/dist-packages (from pydantic<3,>=1.9.0->openai) (0.4.0)\n",
            "Requirement already satisfied: six>=1.5 in /usr/local/lib/python3.11/dist-packages (from python-dateutil>=2.8.2->pandas) (1.17.0)\n"
          ]
        }
      ],
      "source": [
        "pip install openai faiss-cpu pandas"
      ]
    },
    {
      "cell_type": "markdown",
      "source": [
        "## Imports all necessary packages for the project and loads the dataset from Github"
      ],
      "metadata": {
        "id": "wFvNhBwMM_Cn"
      }
    },
    {
      "cell_type": "code",
      "source": [
        "import openai\n",
        "import faiss\n",
        "import pandas as pd\n",
        "import numpy as np\n",
        "import ast\n",
        "\n",
        "# Set your OpenAI API Key\n",
        "openai.api_key = AI_KEY\n",
        "\n",
        "# Load advertisement data\n",
        "csv_file = \"https://raw.githubusercontent.com/m1chae11u/llm-ad-integration/refs/heads/main/sampled_ads.csv\"\n",
        "df = pd.read_csv(csv_file)\n",
        "\n",
        "print(df.head())\n"
      ],
      "metadata": {
        "id": "j-OB-bFdVtzo",
        "colab": {
          "base_uri": "https://localhost:8080/"
        },
        "outputId": "1742af8d-810f-4e96-d4f2-dd521124b051"
      },
      "execution_count": 3,
      "outputs": [
        {
          "output_type": "stream",
          "name": "stdout",
          "text": [
            "   product_id    ad_id         user_search_query  \\\n",
            "0     2634449     6511                      spad   \n",
            "1     1588292  3219024     e1796 bausch %26 lomb   \n",
            "2     3285600   218399           ps4 used amazon   \n",
            "3     4688264   147690  vegetable bouillon cubes   \n",
            "4     4539593   890666       star sapphire rings   \n",
            "\n",
            "                                            ad_title  \\\n",
            "0                                   Spad XIII French   \n",
            "1  Bausch + Lomb Biotrue Multi-Purpose Solution -...   \n",
            "2  Sony PlayStation 4 VR, Astro BOT Rescue Missio...   \n",
            "3  Massel 7's, Vegan Bouillon Stock Cubes - Glute...   \n",
            "4  Sterling Silver 7mm Created Sapphire Ring with...   \n",
            "\n",
            "                                      ad_description                  url  \\\n",
            "0  Are you one of the legions of aircraft enthusi...  simpshopifyapps.com   \n",
            "1  Inspired by The Biology of Your Eyes- Works li...           google.com   \n",
            "2  VR gaming fun for the whole family. Color: White.          walmart.com   \n",
            "3  QUALITY VEGETABLE STOCK - Turn normal meals to...           amazon.com   \n",
            "4  Halo style created sapphire and diamond ring f...      joyjewelers.com   \n",
            "\n",
            "           seller             brand  label           image_id  \n",
            "0      Pilot Mall  Authentic Models      0  [IMG_CATEID_3131]  \n",
            "1  Google Express     Bausch + Lomb      0  [IMG_CATEID_3465]  \n",
            "2         Walmart              Sony      0   [IMG_CATEID_397]  \n",
            "3      Amazon.com            Massel      0  [IMG_CATEID_1851]  \n",
            "4    Joy Jewelers      Joy Jewelers      0   [IMG_CATEID_372]  \n"
          ]
        }
      ]
    },
    {
      "cell_type": "markdown",
      "source": [
        "## Parse through the dataframe and clean the data"
      ],
      "metadata": {
        "id": "9NcevdyoP4lN"
      }
    },
    {
      "cell_type": "markdown",
      "source": [
        "\n",
        "\n",
        "*   Go through ad_key_words get rid of any character that's not a string and remove it\n",
        "*   Go through ad_benefit get rid of any character that's not a string and remove it\n",
        "\n"
      ],
      "metadata": {
        "id": "3okqpszNQJSi"
      }
    },
    {
      "cell_type": "code",
      "source": [
        "# # Function to preprocess ad data\n",
        "# def preprocess_ad(row):\n",
        "#     keywords = \" \".join(ast.literal_eval(row[\"ad_key_words\"])) if isinstance(row[\"ad_key_words\"], str) else \"\"\n",
        "#     benefits = \" \".join(ast.literal_eval(row[\"ad_benefits\"])) if isinstance(row[\"ad_benefits\"], str) else \"\"\n",
        "#     return f\"{row['product']} {row['ad_description']} {keywords} {benefits}\"\n",
        "\n",
        "# Apply preprocessing to each row\n",
        "# ad_texts = df.apply(preprocess_ad, axis=1).tolist()\n",
        "ad_texts = df[\"ad_description\"].tolist()\n",
        "ad_ids = df[\"ad_id\"].tolist()  # Store ad IDs for retrieval"
      ],
      "metadata": {
        "id": "1VFVTyb_rFkb"
      },
      "execution_count": 8,
      "outputs": []
    },
    {
      "cell_type": "markdown",
      "source": [
        "## Use OpenAI api to embed Vectors"
      ],
      "metadata": {
        "id": "RgbpLXMMP49-"
      }
    },
    {
      "cell_type": "markdown",
      "source": [
        "Embed a vector for each value in the data set so that we can retrieve the most similar ad based on the user provided prompt"
      ],
      "metadata": {
        "id": "YBn93LSuQfoK"
      }
    },
    {
      "cell_type": "code",
      "source": [
        "# Function to get embeddings from OpenAI\n",
        "def get_embedding(text):\n",
        "    response = openai.embeddings.create(\n",
        "        input=text,\n",
        "        model=\"text-embedding-ada-002\"\n",
        "    )\n",
        "    return response.data[0].embedding\n",
        "\n",
        "# Compute embeddings for all ads\n",
        "ad_embeddings = np.array([get_embedding(text) for text in ad_texts]).astype(\"float32\")"
      ],
      "metadata": {
        "id": "hN3n28ZOrOd6"
      },
      "execution_count": 9,
      "outputs": []
    },
    {
      "cell_type": "markdown",
      "source": [
        "## Creates the FAISS index"
      ],
      "metadata": {
        "id": "Vd6o7BpLP5Z2"
      }
    },
    {
      "cell_type": "markdown",
      "source": [
        "The FAISS index will store all of the vector embeddings which will allow us to retrieve the most similar embeddings based on the user's query\n"
      ],
      "metadata": {
        "id": "_kZtddPmRXiS"
      }
    },
    {
      "cell_type": "code",
      "source": [
        "# Create FAISS index\n",
        "embedding_dim = len(ad_embeddings[0])  # 1536 for text-embedding-ada-002\n",
        "index = faiss.IndexFlatL2(embedding_dim)\n",
        "index.add(ad_embeddings)  # Add vectors to FAISS\n",
        "\n",
        "# Save FAISS index and metadata\n",
        "faiss.write_index(index, \"ads_faiss.index\")\n",
        "df[[\"ad_id\", \"ad_title\", \"ad_description\"]].to_csv(\"ads_metadata.csv\", index=False)\n",
        "\n",
        "print(\"FAISS index and metadata saved successfully!\")"
      ],
      "metadata": {
        "colab": {
          "base_uri": "https://localhost:8080/"
        },
        "id": "7QK2uQZMoJhq",
        "outputId": "33a9a3e4-ad9c-4dcf-aba0-c397aa4a0ea6"
      },
      "execution_count": 18,
      "outputs": [
        {
          "output_type": "stream",
          "name": "stdout",
          "text": [
            "FAISS index and metadata saved successfully!\n"
          ]
        }
      ]
    },
    {
      "cell_type": "markdown",
      "source": [
        "## Testing out searching through the FAISS with an example query\n"
      ],
      "metadata": {
        "id": "dXythMQhR3Jw"
      }
    },
    {
      "cell_type": "code",
      "source": [
        "# Function to search for similar ads\n",
        "def search_similar_ads(query, top_k=5):\n",
        "    query_embedding = np.array(get_embedding(query)).astype(\"float32\").reshape(1, -1)\n",
        "    distances, indices = index.search(query_embedding, top_k)\n",
        "\n",
        "    # Retrieve matching ads\n",
        "    results = [{\"ad_id\": ad_ids[idx], \"distance\": float(dist)} for idx, dist in zip(indices[0], distances[0])]\n",
        "    return results\n",
        "\n",
        "# Example query\n",
        "query = \"Looking for wireless earbuds with noise cancellation\"\n",
        "similar_ads = search_similar_ads(query)\n",
        "print(\"Similar Ads:\", similar_ads)"
      ],
      "metadata": {
        "colab": {
          "base_uri": "https://localhost:8080/"
        },
        "id": "N6yewx3G49tD",
        "outputId": "6e47b080-3b29-4b71-c3b0-12c89c1bb06c"
      },
      "execution_count": 19,
      "outputs": [
        {
          "output_type": "stream",
          "name": "stdout",
          "text": [
            "Similar Ads: [{'ad_id': 2084551, 'distance': 0.2493971884250641}, {'ad_id': 3418501, 'distance': 0.26797980070114136}, {'ad_id': 312758, 'distance': 0.292544960975647}, {'ad_id': 930698, 'distance': 0.29640138149261475}, {'ad_id': 2297709, 'distance': 0.30459341406822205}]\n"
          ]
        }
      ]
    }
  ]
}