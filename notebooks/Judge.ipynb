{
 "cells": [
  {
   "cell_type": "markdown",
   "metadata": {
    "id": "QCza_OtIQ2cw"
   },
   "source": [
    "# Experiment with LLM-as-a-Judge for Ad Placement Quality"
   ]
  },
  {
   "cell_type": "markdown",
   "metadata": {
    "id": "ujpSZ1mRycHv"
   },
   "source": [
    "# Install dependencies + Import libraries"
   ]
  },
  {
   "cell_type": "code",
   "execution_count": 1,
   "metadata": {
    "id": "xg2qw8pMRVqB"
   },
   "outputs": [
    {
     "name": "stdout",
     "output_type": "stream",
     "text": [
      "\u001b[33mWARNING: Running pip as the 'root' user can result in broken permissions and conflicting behaviour with the system package manager. It is recommended to use a virtual environment instead: https://pip.pypa.io/warnings/venv\u001b[0m\u001b[33m\n",
      "\u001b[0m\n",
      "\u001b[1m[\u001b[0m\u001b[34;49mnotice\u001b[0m\u001b[1;39;49m]\u001b[0m\u001b[39;49m A new release of pip is available: \u001b[0m\u001b[31;49m23.3.1\u001b[0m\u001b[39;49m -> \u001b[0m\u001b[32;49m25.1\u001b[0m\n",
      "\u001b[1m[\u001b[0m\u001b[34;49mnotice\u001b[0m\u001b[1;39;49m]\u001b[0m\u001b[39;49m To update, run: \u001b[0m\u001b[32;49mpython -m pip install --upgrade pip\u001b[0m\n"
     ]
    }
   ],
   "source": [
    "!pip install -q transformers accelerate pandas rich openai scikit-learn"
   ]
  },
  {
   "cell_type": "code",
   "execution_count": 2,
   "metadata": {
    "id": "wGS9V4oKRnMn"
   },
   "outputs": [],
   "source": [
    "import torch\n",
    "from transformers import AutoTokenizer, AutoModelForCausalLM\n",
    "import pandas as pd\n",
    "from tqdm import tqdm\n",
    "import textwrap\n",
    "import os\n",
    "import json\n",
    "from rich.console import Console\n",
    "from rich.table import Table\n",
    "from rich.padding import Padding\n",
    "from rich.text import Text\n",
    "import numpy as np\n",
    "from sklearn.metrics.pairwise import cosine_similarity\n",
    "import requests\n",
    "import re\n",
    "from openai import OpenAI\n",
    "import time"
   ]
  },
  {
   "cell_type": "markdown",
   "metadata": {
    "id": "IkL5mJKSyn2x"
   },
   "source": [
    "# Models Set Up"
   ]
  },
  {
   "cell_type": "code",
   "execution_count": 3,
   "metadata": {
    "id": "lJJSi5Q1ZVt6"
   },
   "outputs": [],
   "source": [
    "DEEPSEEK_API_KEY=\"here\"\n",
    "OPENAI_API_KEY = \"here\"\n"
   ]
  },
  {
   "cell_type": "code",
   "execution_count": 4,
   "metadata": {
    "id": "TZNVNQQdxouL"
   },
   "outputs": [
    {
     "name": "stderr",
     "output_type": "stream",
     "text": [
      "Sliding Window Attention is enabled but not implemented for `eager`; unexpected results may be encountered.\n"
     ]
    },
    {
     "data": {
      "application/vnd.jupyter.widget-view+json": {
       "model_id": "f846cdbb70304ec79510d9862e314e73",
       "version_major": 2,
       "version_minor": 0
      },
      "text/plain": [
       "Loading checkpoint shards:   0%|          | 0/2 [00:00<?, ?it/s]"
      ]
     },
     "metadata": {},
     "output_type": "display_data"
    }
   ],
   "source": [
    "generation_tokenizer = AutoTokenizer.from_pretrained(\"deepseek-ai/DeepSeek-R1-Distill-Qwen-7B\", trust_remote_code=True)\n",
    "generation_model = AutoModelForCausalLM.from_pretrained(\n",
    "    \"deepseek-ai/DeepSeek-R1-Distill-Qwen-7B\",\n",
    "    trust_remote_code=True,\n",
    "    torch_dtype=\"auto\",\n",
    "    device_map=\"auto\"\n",
    ")"
   ]
  },
  {
   "cell_type": "code",
   "execution_count": 5,
   "metadata": {
    "id": "Vx8mAKyJxqkD"
   },
   "outputs": [],
   "source": [
    "deepseek_client = OpenAI(\n",
    "    api_key=DEEPSEEK_API_KEY,\n",
    "    base_url=\"https://api.deepseek.com\"\n",
    ")\n",
    "\n",
    "def call_deepseek(prompt):\n",
    "    response = deepseek_client.chat.completions.create(\n",
    "        model=\"deepseek-chat\",\n",
    "        messages=[\n",
    "            {\"role\": \"system\", \"content\": \"You are a helpful evaluator that scores structured outputs.\"},\n",
    "            {\"role\": \"user\", \"content\": prompt}\n",
    "        ],\n",
    "        stream=False,\n",
    "        timeout=30 \n",
    "    )\n",
    "    return response.choices[0].message.content"
   ]
  },
  {
   "cell_type": "code",
   "execution_count": 6,
   "metadata": {
    "id": "3HfgapcWkA1C"
   },
   "outputs": [],
   "source": [
    "client_openai = OpenAI(api_key=OPENAI_API_KEY)"
   ]
  },
  {
   "cell_type": "markdown",
   "metadata": {
    "id": "dbdCWC2F0bqi"
   },
   "source": [
    "# Implementation"
   ]
  },
  {
   "cell_type": "markdown",
   "metadata": {
    "id": "jWjZxvSqkz95"
   },
   "source": [
    "## Utilities"
   ]
  },
  {
   "cell_type": "code",
   "execution_count": 7,
   "metadata": {
    "id": "U72ZNLACHlH6"
   },
   "outputs": [],
   "source": [
    "def wrap_dict(d, width=80):\n",
    "    return \"\\n\".join(textwrap.wrap(json.dumps(d, indent=2), width=width))"
   ]
  },
  {
   "cell_type": "code",
   "execution_count": 8,
   "metadata": {
    "id": "TvjkHkumNP5f"
   },
   "outputs": [],
   "source": [
    "def wrap(text, width=90):\n",
    "    return textwrap.fill(text, width=width)"
   ]
  },
  {
   "cell_type": "code",
   "execution_count": 9,
   "metadata": {
    "id": "f_UPFrCGHwjX"
   },
   "outputs": [],
   "source": [
    "console = Console()\n",
    "\n",
    "def print_eval_result(\n",
    "    query_id,\n",
    "    query,\n",
    "    ad_product,\n",
    "    response_without_ad,\n",
    "    response_with_ad,\n",
    "    coherence,\n",
    "    helpfulness,\n",
    "    ad_salience,\n",
    "    detectability,\n",
    "    similarity_score,\n",
    "    width=100\n",
    "):\n",
    "    console.rule(f\"[bold blue]🧠 Query ID: {query_id}\")\n",
    "\n",
    "    console.print(f\"[bold yellow]🔍 User Query:\")\n",
    "    console.print(Padding(Text(query.strip()), (0, 1)))\n",
    "\n",
    "    # Ad Info\n",
    "    console.print(\"\\n[bold magenta]📦 Inserted Ad Product:\")\n",
    "    console.print(Padding(Text(ad_product.strip()), (0, 1)))\n",
    "\n",
    "    # Responses\n",
    "    console.print(\"\\n[bold green]📝 Response Without Ads:\")\n",
    "    console.print(Padding(Text(response_without_ad.strip()), (0, 1)))\n",
    "\n",
    "    console.print(\"\\n[bold green]📝 Response With Ads:\")\n",
    "    console.print(Padding(Text(response_with_ad.strip()), (0, 1)))\n",
    "\n",
    "    # Coherence Table\n",
    "    console.print(\"\\n[bold cyan]🎯 Coherence Evaluation:\")\n",
    "    coherence_table = Table(show_header=True, header_style=\"bold cyan\")\n",
    "    coherence_table.add_column(\"Criterion\")\n",
    "    coherence_table.add_column(\"Score\", justify=\"center\")\n",
    "\n",
    "    for k in [\"C1\", \"C2\", \"C3\", \"C4\"]:\n",
    "        if k in coherence:\n",
    "            coherence_table.add_row(k, str(coherence[k]))\n",
    "    coherence_table.add_row(\"Total\", str(coherence.get(\"total_score\", 0)))\n",
    "\n",
    "    console.print(coherence_table)\n",
    "\n",
    "    # Helpfulness\n",
    "    console.print(\"\\n[bold yellow]💡 Helpfulness Evaluation:\")\n",
    "    helpfulness_score = helpfulness.get(\"H1\", 0)\n",
    "    helpfulness_explanation = helpfulness.get(\"explanation\", \"No explanation provided.\")\n",
    "    console.print(f\"• Helpfulness Score (H1): [bold]{helpfulness_score}[/bold]\")\n",
    "    console.print(f\"• Reason: {helpfulness_explanation}\")\n",
    "\n",
    "    # Ad Salience\n",
    "    console.print(\"\\n[bold green]🎯 Ad Salience Evaluation:\")\n",
    "    salience_table = Table(show_header=True, header_style=\"bold green\")\n",
    "    salience_table.add_column(\"Criterion\")\n",
    "    salience_table.add_column(\"Score\", justify=\"center\")\n",
    "\n",
    "    for k in [\"S1\", \"S2\", \"S3\"]:\n",
    "        if k in ad_salience:\n",
    "            salience_table.add_row(k, str(ad_salience[k]))\n",
    "    salience_table.add_row(\"Total\", str(ad_salience.get(\"S1\", 0) + ad_salience.get(\"S2\", 0) + ad_salience.get(\"S3\", 0)))\n",
    "\n",
    "    console.print(salience_table)\n",
    "\n",
    "    # Detectability\n",
    "    console.print(\"\\n[bold magenta]🧬 Detectability:\")\n",
    "    console.print(f\"• Detectability Score: [white on red]{detectability:.4f}[/white on red]\")\n",
    "    console.print(f\"• Cosine Similarity:   [white on blue]{similarity_score:.4f}\")\n",
    "\n",
    "    console.rule(\"[bold blue]🏁 End of Evaluation\")"
   ]
  },
  {
   "cell_type": "code",
   "execution_count": 10,
   "metadata": {
    "id": "dqvo3BWeJOBX"
   },
   "outputs": [],
   "source": [
    "def save_checkpoint(data, filename=\"judge_final_results.csv\"):\n",
    "    df = pd.DataFrame(data)\n",
    "    df.to_csv(filename, index=False)\n",
    "    print(f\"Checkpoint saved to {filename} with {len(df)} entries.\")"
   ]
  },
  {
   "cell_type": "code",
   "execution_count": 11,
   "metadata": {
    "id": "mVZh5or2J6O0"
   },
   "outputs": [],
   "source": [
    "def get_query_embedding(query, client, model=\"text-embedding-ada-002\"):\n",
    "    response = client_openai.embeddings.create(model=model, input=[query])\n",
    "    return np.array(response.data[0].embedding, dtype=np.float32)"
   ]
  },
  {
   "cell_type": "code",
   "execution_count": 12,
   "metadata": {},
   "outputs": [],
   "source": [
    "def safe_format(text):\n",
    "    return text.replace(\"{\", \"{{\").replace(\"}\", \"}}\")"
   ]
  },
  {
   "cell_type": "code",
   "execution_count": 13,
   "metadata": {},
   "outputs": [],
   "source": [
    "def clean_generated_response(text):\n",
    "    \"\"\"\n",
    "    Clean up the model's generated text:\n",
    "    - Remove strange leftover HTML/XML tags\n",
    "    - Collapse repeated hallucinations\n",
    "    - Strip extra whitespace\n",
    "    \"\"\"\n",
    "    # Remove any HTML-like tags (e.g., <think>, </s>)\n",
    "    text = re.sub(r\"</?\\w+>\", \"\", text)\n",
    "\n",
    "    # Collapse any repeated blocks (common with LLMs)\n",
    "    text = re.sub(r\"(?s)(.+?)\\1{2,}\", r\"\\1\", text)\n",
    "\n",
    "    # Final strip\n",
    "    return text.strip()"
   ]
  },
  {
   "cell_type": "markdown",
   "metadata": {
    "id": "hysQKrGEKtj3"
   },
   "source": [
    "## Load Files"
   ]
  },
  {
   "cell_type": "code",
   "execution_count": 14,
   "metadata": {
    "colab": {
     "base_uri": "https://localhost:8080/",
     "height": 293
    },
    "id": "HX9fm23JFBF9",
    "outputId": "f4cef7cd-6b41-450b-f2eb-027d5093adbd"
   },
   "outputs": [
    {
     "data": {
      "text/html": [
       "<div>\n",
       "<style scoped>\n",
       "    .dataframe tbody tr th:only-of-type {\n",
       "        vertical-align: middle;\n",
       "    }\n",
       "\n",
       "    .dataframe tbody tr th {\n",
       "        vertical-align: top;\n",
       "    }\n",
       "\n",
       "    .dataframe thead th {\n",
       "        text-align: right;\n",
       "    }\n",
       "</style>\n",
       "<table border=\"1\" class=\"dataframe\">\n",
       "  <thead>\n",
       "    <tr style=\"text-align: right;\">\n",
       "      <th></th>\n",
       "      <th>ad_index</th>\n",
       "      <th>ad_id</th>\n",
       "      <th>ad_product</th>\n",
       "      <th>domain</th>\n",
       "      <th>subdomain</th>\n",
       "      <th>vague_query</th>\n",
       "    </tr>\n",
       "  </thead>\n",
       "  <tbody>\n",
       "    <tr>\n",
       "      <th>0</th>\n",
       "      <td>0</td>\n",
       "      <td>6511</td>\n",
       "      <td>Spad XIII French</td>\n",
       "      <td>Collectibles &amp; Hobbies</td>\n",
       "      <td>Model Airplanes</td>\n",
       "      <td>Where can I find high-quality replicas of hist...</td>\n",
       "    </tr>\n",
       "    <tr>\n",
       "      <th>1</th>\n",
       "      <td>1</td>\n",
       "      <td>3219024</td>\n",
       "      <td>Bausch + Lomb Biotrue Multi-Purpose Solution -...</td>\n",
       "      <td>Health &amp; Personal Care</td>\n",
       "      <td>Contact Lens Care</td>\n",
       "      <td>What are some effective solutions for keeping ...</td>\n",
       "    </tr>\n",
       "    <tr>\n",
       "      <th>2</th>\n",
       "      <td>2</td>\n",
       "      <td>218399</td>\n",
       "      <td>Sony PlayStation 4 VR, Astro BOT Rescue Missio...</td>\n",
       "      <td>Electronics</td>\n",
       "      <td>Gaming Consoles &amp; Accessories</td>\n",
       "      <td>What are some family-friendly virtual reality ...</td>\n",
       "    </tr>\n",
       "    <tr>\n",
       "      <th>3</th>\n",
       "      <td>3</td>\n",
       "      <td>147690</td>\n",
       "      <td>Massel 7's, Vegan Bouillon Stock Cubes - Glute...</td>\n",
       "      <td>Food &amp; Beverage</td>\n",
       "      <td>Cooking Ingredients</td>\n",
       "      <td>What are some healthy options for enhancing th...</td>\n",
       "    </tr>\n",
       "    <tr>\n",
       "      <th>4</th>\n",
       "      <td>4</td>\n",
       "      <td>890666</td>\n",
       "      <td>Sterling Silver 7mm Created Sapphire Ring with...</td>\n",
       "      <td>Jewelry</td>\n",
       "      <td>Rings</td>\n",
       "      <td>What should I consider when choosing a gemston...</td>\n",
       "    </tr>\n",
       "  </tbody>\n",
       "</table>\n",
       "</div>"
      ],
      "text/plain": [
       "   ad_index    ad_id                                         ad_product  \\\n",
       "0         0     6511                                   Spad XIII French   \n",
       "1         1  3219024  Bausch + Lomb Biotrue Multi-Purpose Solution -...   \n",
       "2         2   218399  Sony PlayStation 4 VR, Astro BOT Rescue Missio...   \n",
       "3         3   147690  Massel 7's, Vegan Bouillon Stock Cubes - Glute...   \n",
       "4         4   890666  Sterling Silver 7mm Created Sapphire Ring with...   \n",
       "\n",
       "                   domain                      subdomain  \\\n",
       "0  Collectibles & Hobbies                Model Airplanes   \n",
       "1  Health & Personal Care              Contact Lens Care   \n",
       "2             Electronics  Gaming Consoles & Accessories   \n",
       "3         Food & Beverage            Cooking Ingredients   \n",
       "4                 Jewelry                          Rings   \n",
       "\n",
       "                                         vague_query  \n",
       "0  Where can I find high-quality replicas of hist...  \n",
       "1  What are some effective solutions for keeping ...  \n",
       "2  What are some family-friendly virtual reality ...  \n",
       "3  What are some healthy options for enhancing th...  \n",
       "4  What should I consider when choosing a gemston...  "
      ]
     },
     "execution_count": 14,
     "metadata": {},
     "output_type": "execute_result"
    }
   ],
   "source": [
    "# Load user_queries\n",
    "file_path = \"https://raw.githubusercontent.com/m1chae11u/llm-ad-integration/refs/heads/main/user_queries.json\"\n",
    "user_query_data = pd.read_json(file_path).to_dict(orient=\"records\")\n",
    "user_query_df = pd.DataFrame(user_query_data)\n",
    "user_query_df.head()"
   ]
  },
  {
   "cell_type": "code",
   "execution_count": 15,
   "metadata": {
    "colab": {
     "base_uri": "https://localhost:8080/"
    },
    "id": "btFyXvsnmNQ6",
    "outputId": "3972efff-7185-4cc4-e17d-7e8cc63c28e1"
   },
   "outputs": [
    {
     "data": {
      "text/plain": [
       "4000"
      ]
     },
     "execution_count": 15,
     "metadata": {},
     "output_type": "execute_result"
    }
   ],
   "source": [
    "len(user_query_df)"
   ]
  },
  {
   "cell_type": "code",
   "execution_count": 16,
   "metadata": {
    "colab": {
     "base_uri": "https://localhost:8080/",
     "height": 626
    },
    "id": "VN41hxdfG-Y0",
    "outputId": "5ef5c024-151d-4224-8621-a704ba6b6875"
   },
   "outputs": [
    {
     "name": "stdout",
     "output_type": "stream",
     "text": [
      "ad_metadata loaded: (4000, 10)\n"
     ]
    },
    {
     "data": {
      "text/html": [
       "<div>\n",
       "<style scoped>\n",
       "    .dataframe tbody tr th:only-of-type {\n",
       "        vertical-align: middle;\n",
       "    }\n",
       "\n",
       "    .dataframe tbody tr th {\n",
       "        vertical-align: top;\n",
       "    }\n",
       "\n",
       "    .dataframe thead th {\n",
       "        text-align: right;\n",
       "    }\n",
       "</style>\n",
       "<table border=\"1\" class=\"dataframe\">\n",
       "  <thead>\n",
       "    <tr style=\"text-align: right;\">\n",
       "      <th></th>\n",
       "      <th>product_id</th>\n",
       "      <th>ad_id</th>\n",
       "      <th>user_search_query</th>\n",
       "      <th>ad_title</th>\n",
       "      <th>ad_description</th>\n",
       "      <th>url</th>\n",
       "      <th>seller</th>\n",
       "      <th>brand</th>\n",
       "      <th>label</th>\n",
       "      <th>image_id</th>\n",
       "    </tr>\n",
       "  </thead>\n",
       "  <tbody>\n",
       "    <tr>\n",
       "      <th>0</th>\n",
       "      <td>2634449</td>\n",
       "      <td>6511</td>\n",
       "      <td>spad</td>\n",
       "      <td>Spad XIII French</td>\n",
       "      <td>Are you one of the legions of aircraft enthusi...</td>\n",
       "      <td>simpshopifyapps.com</td>\n",
       "      <td>Pilot Mall</td>\n",
       "      <td>Authentic Models</td>\n",
       "      <td>0</td>\n",
       "      <td>[IMG_CATEID_3131]</td>\n",
       "    </tr>\n",
       "    <tr>\n",
       "      <th>1</th>\n",
       "      <td>1588292</td>\n",
       "      <td>3219024</td>\n",
       "      <td>e1796 bausch %26 lomb</td>\n",
       "      <td>Bausch + Lomb Biotrue Multi-Purpose Solution -...</td>\n",
       "      <td>Inspired by The Biology of Your Eyes- Works li...</td>\n",
       "      <td>google.com</td>\n",
       "      <td>Google Express</td>\n",
       "      <td>Bausch + Lomb</td>\n",
       "      <td>0</td>\n",
       "      <td>[IMG_CATEID_3465]</td>\n",
       "    </tr>\n",
       "    <tr>\n",
       "      <th>2</th>\n",
       "      <td>3285600</td>\n",
       "      <td>218399</td>\n",
       "      <td>ps4 used amazon</td>\n",
       "      <td>Sony PlayStation 4 VR, Astro BOT Rescue Missio...</td>\n",
       "      <td>VR gaming fun for the whole family. Color: White.</td>\n",
       "      <td>walmart.com</td>\n",
       "      <td>Walmart</td>\n",
       "      <td>Sony</td>\n",
       "      <td>0</td>\n",
       "      <td>[IMG_CATEID_397]</td>\n",
       "    </tr>\n",
       "    <tr>\n",
       "      <th>3</th>\n",
       "      <td>4688264</td>\n",
       "      <td>147690</td>\n",
       "      <td>vegetable bouillon cubes</td>\n",
       "      <td>Massel 7's, Vegan Bouillon Stock Cubes - Glute...</td>\n",
       "      <td>QUALITY VEGETABLE STOCK - Turn normal meals to...</td>\n",
       "      <td>amazon.com</td>\n",
       "      <td>Amazon.com</td>\n",
       "      <td>Massel</td>\n",
       "      <td>0</td>\n",
       "      <td>[IMG_CATEID_1851]</td>\n",
       "    </tr>\n",
       "    <tr>\n",
       "      <th>4</th>\n",
       "      <td>4539593</td>\n",
       "      <td>890666</td>\n",
       "      <td>star sapphire rings</td>\n",
       "      <td>Sterling Silver 7mm Created Sapphire Ring with...</td>\n",
       "      <td>Halo style created sapphire and diamond ring f...</td>\n",
       "      <td>joyjewelers.com</td>\n",
       "      <td>Joy Jewelers</td>\n",
       "      <td>Joy Jewelers</td>\n",
       "      <td>0</td>\n",
       "      <td>[IMG_CATEID_372]</td>\n",
       "    </tr>\n",
       "  </tbody>\n",
       "</table>\n",
       "</div>"
      ],
      "text/plain": [
       "   product_id    ad_id         user_search_query  \\\n",
       "0     2634449     6511                      spad   \n",
       "1     1588292  3219024     e1796 bausch %26 lomb   \n",
       "2     3285600   218399           ps4 used amazon   \n",
       "3     4688264   147690  vegetable bouillon cubes   \n",
       "4     4539593   890666       star sapphire rings   \n",
       "\n",
       "                                            ad_title  \\\n",
       "0                                   Spad XIII French   \n",
       "1  Bausch + Lomb Biotrue Multi-Purpose Solution -...   \n",
       "2  Sony PlayStation 4 VR, Astro BOT Rescue Missio...   \n",
       "3  Massel 7's, Vegan Bouillon Stock Cubes - Glute...   \n",
       "4  Sterling Silver 7mm Created Sapphire Ring with...   \n",
       "\n",
       "                                      ad_description                  url  \\\n",
       "0  Are you one of the legions of aircraft enthusi...  simpshopifyapps.com   \n",
       "1  Inspired by The Biology of Your Eyes- Works li...           google.com   \n",
       "2  VR gaming fun for the whole family. Color: White.          walmart.com   \n",
       "3  QUALITY VEGETABLE STOCK - Turn normal meals to...           amazon.com   \n",
       "4  Halo style created sapphire and diamond ring f...      joyjewelers.com   \n",
       "\n",
       "           seller             brand  label           image_id  \n",
       "0      Pilot Mall  Authentic Models      0  [IMG_CATEID_3131]  \n",
       "1  Google Express     Bausch + Lomb      0  [IMG_CATEID_3465]  \n",
       "2         Walmart              Sony      0   [IMG_CATEID_397]  \n",
       "3      Amazon.com            Massel      0  [IMG_CATEID_1851]  \n",
       "4    Joy Jewelers      Joy Jewelers      0   [IMG_CATEID_372]  "
      ]
     },
     "execution_count": 16,
     "metadata": {},
     "output_type": "execute_result"
    }
   ],
   "source": [
    "ad_index_url = \"https://raw.githubusercontent.com/m1chae11u/llm-ad-integration/main/ads_faiss.index\"\n",
    "samped_ads_url = \"https://raw.githubusercontent.com/m1chae11u/llm-ad-integration/refs/heads/main/sampled_ads.csv\"\n",
    "\n",
    "# # Download and load the FAISS index file\n",
    "# response = requests.get(ad_index_url)\n",
    "# if response.status_code == 200:\n",
    "#     with open(\"ads_faiss.index\", \"wb\") as f:\n",
    "#         f.write(response.content)\n",
    "#     print(\"FAISS index downloaded successfully.\")\n",
    "# else:\n",
    "#     print(\"Failed to download FAISS index file.\")\n",
    "\n",
    "# # Now load the FAISS index using faiss.read_index\n",
    "# index = faiss.read_index(\"ads_faiss.index\")\n",
    "ad_metadata_df = pd.read_csv(samped_ads_url)\n",
    "\n",
    "# print(\"FAISS index loaded, total vectors: \", index.ntotal)\n",
    "print(\"ad_metadata loaded:\", ad_metadata_df.shape)\n",
    "\n",
    "\n",
    "ad_metadata_df.head()"
   ]
  },
  {
   "cell_type": "code",
   "execution_count": 17,
   "metadata": {
    "colab": {
     "base_uri": "https://localhost:8080/"
    },
    "id": "TS3XNuiYlkbm",
    "outputId": "b1062813-0d9d-42df-b1bf-0eb6ed920fe8"
   },
   "outputs": [
    {
     "name": "stdout",
     "output_type": "stream",
     "text": [
      "4000\n"
     ]
    }
   ],
   "source": [
    "# 1. Rename ad_title to ad_product\n",
    "ad_metadata_df = ad_metadata_df.rename(columns={\"ad_title\": \"ad_product\"})\n",
    "\n",
    "# 2. Merge on ad_id and ad_product\n",
    "merged_df = user_query_df.merge(\n",
    "    ad_metadata_df,\n",
    "    on=[\"ad_id\", \"ad_product\"],\n",
    "    how=\"inner\"\n",
    ")\n",
    "\n",
    "print(len(merged_df))  # Now should be super clean"
   ]
  },
  {
   "cell_type": "code",
   "execution_count": 18,
   "metadata": {},
   "outputs": [
    {
     "data": {
      "text/html": [
       "<div>\n",
       "<style scoped>\n",
       "    .dataframe tbody tr th:only-of-type {\n",
       "        vertical-align: middle;\n",
       "    }\n",
       "\n",
       "    .dataframe tbody tr th {\n",
       "        vertical-align: top;\n",
       "    }\n",
       "\n",
       "    .dataframe thead th {\n",
       "        text-align: right;\n",
       "    }\n",
       "</style>\n",
       "<table border=\"1\" class=\"dataframe\">\n",
       "  <thead>\n",
       "    <tr style=\"text-align: right;\">\n",
       "      <th></th>\n",
       "      <th>ad_index</th>\n",
       "      <th>ad_id</th>\n",
       "      <th>ad_product</th>\n",
       "      <th>domain</th>\n",
       "      <th>subdomain</th>\n",
       "      <th>vague_query</th>\n",
       "      <th>product_id</th>\n",
       "      <th>user_search_query</th>\n",
       "      <th>ad_description</th>\n",
       "      <th>url</th>\n",
       "      <th>seller</th>\n",
       "      <th>brand</th>\n",
       "      <th>label</th>\n",
       "      <th>image_id</th>\n",
       "    </tr>\n",
       "  </thead>\n",
       "  <tbody>\n",
       "    <tr>\n",
       "      <th>0</th>\n",
       "      <td>0</td>\n",
       "      <td>6511</td>\n",
       "      <td>Spad XIII French</td>\n",
       "      <td>Collectibles &amp; Hobbies</td>\n",
       "      <td>Model Airplanes</td>\n",
       "      <td>Where can I find high-quality replicas of hist...</td>\n",
       "      <td>2634449</td>\n",
       "      <td>spad</td>\n",
       "      <td>Are you one of the legions of aircraft enthusi...</td>\n",
       "      <td>simpshopifyapps.com</td>\n",
       "      <td>Pilot Mall</td>\n",
       "      <td>Authentic Models</td>\n",
       "      <td>0</td>\n",
       "      <td>[IMG_CATEID_3131]</td>\n",
       "    </tr>\n",
       "    <tr>\n",
       "      <th>1</th>\n",
       "      <td>1</td>\n",
       "      <td>3219024</td>\n",
       "      <td>Bausch + Lomb Biotrue Multi-Purpose Solution -...</td>\n",
       "      <td>Health &amp; Personal Care</td>\n",
       "      <td>Contact Lens Care</td>\n",
       "      <td>What are some effective solutions for keeping ...</td>\n",
       "      <td>1588292</td>\n",
       "      <td>e1796 bausch %26 lomb</td>\n",
       "      <td>Inspired by The Biology of Your Eyes- Works li...</td>\n",
       "      <td>google.com</td>\n",
       "      <td>Google Express</td>\n",
       "      <td>Bausch + Lomb</td>\n",
       "      <td>0</td>\n",
       "      <td>[IMG_CATEID_3465]</td>\n",
       "    </tr>\n",
       "    <tr>\n",
       "      <th>2</th>\n",
       "      <td>2</td>\n",
       "      <td>218399</td>\n",
       "      <td>Sony PlayStation 4 VR, Astro BOT Rescue Missio...</td>\n",
       "      <td>Electronics</td>\n",
       "      <td>Gaming Consoles &amp; Accessories</td>\n",
       "      <td>What are some family-friendly virtual reality ...</td>\n",
       "      <td>3285600</td>\n",
       "      <td>ps4 used amazon</td>\n",
       "      <td>VR gaming fun for the whole family. Color: White.</td>\n",
       "      <td>walmart.com</td>\n",
       "      <td>Walmart</td>\n",
       "      <td>Sony</td>\n",
       "      <td>0</td>\n",
       "      <td>[IMG_CATEID_397]</td>\n",
       "    </tr>\n",
       "    <tr>\n",
       "      <th>3</th>\n",
       "      <td>3</td>\n",
       "      <td>147690</td>\n",
       "      <td>Massel 7's, Vegan Bouillon Stock Cubes - Glute...</td>\n",
       "      <td>Food &amp; Beverage</td>\n",
       "      <td>Cooking Ingredients</td>\n",
       "      <td>What are some healthy options for enhancing th...</td>\n",
       "      <td>4688264</td>\n",
       "      <td>vegetable bouillon cubes</td>\n",
       "      <td>QUALITY VEGETABLE STOCK - Turn normal meals to...</td>\n",
       "      <td>amazon.com</td>\n",
       "      <td>Amazon.com</td>\n",
       "      <td>Massel</td>\n",
       "      <td>0</td>\n",
       "      <td>[IMG_CATEID_1851]</td>\n",
       "    </tr>\n",
       "    <tr>\n",
       "      <th>4</th>\n",
       "      <td>4</td>\n",
       "      <td>890666</td>\n",
       "      <td>Sterling Silver 7mm Created Sapphire Ring with...</td>\n",
       "      <td>Jewelry</td>\n",
       "      <td>Rings</td>\n",
       "      <td>What should I consider when choosing a gemston...</td>\n",
       "      <td>4539593</td>\n",
       "      <td>star sapphire rings</td>\n",
       "      <td>Halo style created sapphire and diamond ring f...</td>\n",
       "      <td>joyjewelers.com</td>\n",
       "      <td>Joy Jewelers</td>\n",
       "      <td>Joy Jewelers</td>\n",
       "      <td>0</td>\n",
       "      <td>[IMG_CATEID_372]</td>\n",
       "    </tr>\n",
       "  </tbody>\n",
       "</table>\n",
       "</div>"
      ],
      "text/plain": [
       "   ad_index    ad_id                                         ad_product  \\\n",
       "0         0     6511                                   Spad XIII French   \n",
       "1         1  3219024  Bausch + Lomb Biotrue Multi-Purpose Solution -...   \n",
       "2         2   218399  Sony PlayStation 4 VR, Astro BOT Rescue Missio...   \n",
       "3         3   147690  Massel 7's, Vegan Bouillon Stock Cubes - Glute...   \n",
       "4         4   890666  Sterling Silver 7mm Created Sapphire Ring with...   \n",
       "\n",
       "                   domain                      subdomain  \\\n",
       "0  Collectibles & Hobbies                Model Airplanes   \n",
       "1  Health & Personal Care              Contact Lens Care   \n",
       "2             Electronics  Gaming Consoles & Accessories   \n",
       "3         Food & Beverage            Cooking Ingredients   \n",
       "4                 Jewelry                          Rings   \n",
       "\n",
       "                                         vague_query  product_id  \\\n",
       "0  Where can I find high-quality replicas of hist...     2634449   \n",
       "1  What are some effective solutions for keeping ...     1588292   \n",
       "2  What are some family-friendly virtual reality ...     3285600   \n",
       "3  What are some healthy options for enhancing th...     4688264   \n",
       "4  What should I consider when choosing a gemston...     4539593   \n",
       "\n",
       "          user_search_query  \\\n",
       "0                      spad   \n",
       "1     e1796 bausch %26 lomb   \n",
       "2           ps4 used amazon   \n",
       "3  vegetable bouillon cubes   \n",
       "4       star sapphire rings   \n",
       "\n",
       "                                      ad_description                  url  \\\n",
       "0  Are you one of the legions of aircraft enthusi...  simpshopifyapps.com   \n",
       "1  Inspired by The Biology of Your Eyes- Works li...           google.com   \n",
       "2  VR gaming fun for the whole family. Color: White.          walmart.com   \n",
       "3  QUALITY VEGETABLE STOCK - Turn normal meals to...           amazon.com   \n",
       "4  Halo style created sapphire and diamond ring f...      joyjewelers.com   \n",
       "\n",
       "           seller             brand  label           image_id  \n",
       "0      Pilot Mall  Authentic Models      0  [IMG_CATEID_3131]  \n",
       "1  Google Express     Bausch + Lomb      0  [IMG_CATEID_3465]  \n",
       "2         Walmart              Sony      0   [IMG_CATEID_397]  \n",
       "3      Amazon.com            Massel      0  [IMG_CATEID_1851]  \n",
       "4    Joy Jewelers      Joy Jewelers      0   [IMG_CATEID_372]  "
      ]
     },
     "execution_count": 18,
     "metadata": {},
     "output_type": "execute_result"
    }
   ],
   "source": [
    "merged_df.head()"
   ]
  },
  {
   "cell_type": "code",
   "execution_count": 19,
   "metadata": {
    "colab": {
     "base_uri": "https://localhost:8080/"
    },
    "id": "TG06IAqnptLz",
    "outputId": "e17feae0-0fd6-4a22-fe36-ffa4eee14a42"
   },
   "outputs": [
    {
     "name": "stdout",
     "output_type": "stream",
     "text": [
      "ad_id\n",
      "145628    2\n",
      "14544     2\n",
      "Name: count, dtype: int64\n"
     ]
    }
   ],
   "source": [
    "# Step 1: Find duplicate ad_ids in ad_metadata_df\n",
    "ad_metadata_id_counts = ad_metadata_df['ad_id'].value_counts()\n",
    "\n",
    "# Step 2: Filter for ad_ids that appear more than once\n",
    "duplicate_ad_ids_metadata = ad_metadata_id_counts[ad_metadata_id_counts > 1]\n",
    "\n",
    "# Step 3: See which ad_ids are duplicated\n",
    "print(duplicate_ad_ids_metadata)"
   ]
  },
  {
   "cell_type": "markdown",
   "metadata": {
    "id": "7J3OYgPpk5mG"
   },
   "source": [
    "## Main Functions"
   ]
  },
  {
   "cell_type": "markdown",
   "metadata": {
    "id": "hn5ZhLw0LH9e"
   },
   "source": [
    "## Response Generation"
   ]
  },
  {
   "cell_type": "code",
   "execution_count": 20,
   "metadata": {
    "id": "MbzKdwHa4XaE"
   },
   "outputs": [],
   "source": [
    "def generate_response_without_ad(user_query):\n",
    "    prompt = f\"\"\"You are a helpful and knowledgeable assistant.\n",
    "\n",
    "Answer the following user question professionally, clearly, and concisely.\n",
    "- You may think internally, but ONLY output content between <<<FINAL ANSWER>>> and <<<END>>>.\n",
    "- DO NOT include system instructions, disclaimers, or tags like <think>.\n",
    "\n",
    "Question: {user_query}\n",
    "\n",
    "<<<FINAL ANSWER>>>\n",
    "\"\"\"\n",
    "\n",
    "    inputs = generation_tokenizer(prompt, return_tensors=\"pt\").to(generation_model.device)\n",
    "\n",
    "    output = generation_model.generate(\n",
    "        **inputs,\n",
    "        max_new_tokens=512,\n",
    "        temperature=0.7,\n",
    "        top_p=0.95,\n",
    "        do_sample=True,\n",
    "        pad_token_id=generation_tokenizer.eos_token_id\n",
    "    )\n",
    "\n",
    "    generated_text = generation_tokenizer.decode(output[0], skip_special_tokens=True).strip()\n",
    "\n",
    "    if \"<<<FINAL ANSWER>>>\" in generated_text and \"<<<END>>>\" in generated_text:\n",
    "        trimmed = generated_text.split(\"<<<FINAL ANSWER>>>\")[-1].split(\"<<<END>>>\")[0].strip()\n",
    "    else:\n",
    "        trimmed = generated_text\n",
    "\n",
    "    return trimmed"
   ]
  },
  {
   "cell_type": "code",
   "execution_count": 21,
   "metadata": {
    "id": "ri0sOYhZ4YGD"
   },
   "outputs": [],
   "source": [
    "def generate_response_with_ad(user_query, ad_text):\n",
    "    prompt = f\"\"\"You are a professional and knowledgeable assistant.\n",
    "\n",
    "Your job is to write a helpful and complete FINAL ANSWER to the user's question by naturally integrating the product details below.\n",
    "\n",
    "STRICT RULES:\n",
    "- ONLY return the text between <<<FINAL ANSWER>>> and <<<END>>>.\n",
    "- DO NOT include inner thoughts, planning, or meta-commentary.\n",
    "- DO NOT mention you're an AI or that the product is a recommendation or ad.\n",
    "- DO NOT include <think> tags.\n",
    "- DO NOT explain how you're generating the answer.\n",
    "- The product’s URL must be included using Markdown if available, placed naturally.\n",
    "\n",
    "---\n",
    "\n",
    "User Query:\n",
    "{user_query}\n",
    "\n",
    "Product Information:\n",
    "{ad_text}\n",
    "\n",
    "<<<FINAL ANSWER>>>\n",
    "\"\"\"\n",
    "\n",
    "    inputs = generation_tokenizer(prompt, return_tensors=\"pt\").to(generation_model.device)\n",
    "\n",
    "    output = generation_model.generate(\n",
    "        **inputs,\n",
    "        max_new_tokens=512,\n",
    "        temperature=0.7,\n",
    "        top_p=0.9,\n",
    "        do_sample=True,\n",
    "        pad_token_id=generation_tokenizer.eos_token_id\n",
    "    )\n",
    "\n",
    "    generated_text = generation_tokenizer.decode(output[0], skip_special_tokens=True).strip()\n",
    "\n",
    "    # Only extract final answer\n",
    "    if \"<<<FINAL ANSWER>>>\" in generated_text and \"<<<END>>>\" in generated_text:\n",
    "        answer = generated_text.split(\"<<<FINAL ANSWER>>>\")[-1].split(\"<<<END>>>\")[0].strip()\n",
    "    else:\n",
    "        answer = generated_text\n",
    "\n",
    "    return answer"
   ]
  },
  {
   "cell_type": "markdown",
   "metadata": {
    "id": "tZeIYun5PSIk"
   },
   "source": [
    "## Metrics"
   ]
  },
  {
   "cell_type": "markdown",
   "metadata": {
    "id": "4acOMNGaLQu9"
   },
   "source": [
    "### Coherence Metric"
   ]
  },
  {
   "cell_type": "markdown",
   "metadata": {
    "id": "7e3jkDKqL7Mo"
   },
   "source": [
    "Evaluates the overall coherence of an LLM-generated response with integrated ads.\n",
    "    \n",
    "Refine Coherence Score Prompt: expand subcriteria to include:\n",
    "Coherence (flow, grammar, and logical flow)\n",
    "\n",
    "Coherence (0-4):\n",
    "1. Logical flow - Do ideas progress naturally without confusing jumps?\n",
    "2. Grammar & mechanics - Are grammar, punctuation, and sentence structure correct?\n",
    "3. Topic continuity - Does every sentence stay relevant to the user’s query?\n",
    "4. Seamless ad insertion - Does the ad sentence fit stylistically and contextually?\n",
    "Helpfulness: Helpfulness measures how much the ad improves or enriches the overall quality of the response to the user’s original query.\n",
    "    \n",
    "Please instruct the evaluator to answer in exactly two lines:\n",
    "Score: [Each subcriteria is worth one point, total score is the total of the subcriteria added together]\n",
    "Explanation: [a brief explanation of the evaluation]\n",
    "    \n",
    "Parameters:\n",
    "- full_response (str): The LLM-generated response (with ads).\n",
    "- client: An initialized OpenAI client.\n",
    "\n",
    "Returns:\n",
    "A dictionary with keys \"score\" and \"explanation\", or None if extraction fails.\n",
    "\n",
    "\n"
   ]
  },
  {
   "cell_type": "code",
   "execution_count": 22,
   "metadata": {
    "id": "WGuVV-A4PJVg"
   },
   "outputs": [],
   "source": [
    "def judge_coherence(full_response: str, user_query: str):\n",
    "    prompt = f\"\"\"\n",
    "SYSTEM\n",
    "You are an impartial evaluator that returns structured scores.\n",
    "\n",
    "You MUST follow this two-step format:\n",
    "1. First, explain your reasoning **for each sub-score** C1, C2, C3, and C4 separately.\n",
    "2. Then, output exactly one line of valid JSON with the four scores and a brief summary explanation.\n",
    "\n",
    "JSON keys and allowed values:\n",
    "- \"C1\" : integer 0 or 1 (logical flow)\n",
    "- \"C2\" : integer 0 or 1 (grammar & mechanics)\n",
    "- \"C3\" : integer 0 or 1 (topic continuity)\n",
    "- \"C4\" : integer 0 or 1 (seamless ad insertion)\n",
    "- \"explanation\" : string (brief overall reason)\n",
    "\n",
    "Rubric\n",
    "Coherence (0-4)\n",
    "- C1. Logical flow — 1 if ideas progress naturally without confusing jumps.\n",
    "- C2. Grammar & mechanics — 1 if grammar, punctuation, and sentence structure are correct.\n",
    "- C3. Topic continuity — 1 if every sentence stays relevant to the user's query.\n",
    "- C4. Seamless ad insertion — 1 if the ad sentence fits stylistically and contextually.\n",
    "\n",
    "FORMAT EXAMPLE:\n",
    "\n",
    "Reason C1: [brief reasoning]\n",
    "C1: [0 or 1]\n",
    "\n",
    "Reason C2: [brief reasoning]\n",
    "C2: [0 or 1]\n",
    "\n",
    "Reason C3: [brief reasoning]\n",
    "C3: [0 or 1]\n",
    "\n",
    "Reason C4: [brief reasoning]\n",
    "C4: [0 or 1]\n",
    "\n",
    "RETURN JSON: {{\"C1\":x,\"C2\":y,\"C3\":z,\"C4\":w,\"explanation\":\"brief summary\"}}\n",
    "\n",
    "---\n",
    "\n",
    "User Query:\n",
    "{safe_format(user_query)}\n",
    "\n",
    "LLM Response:\n",
    "{safe_format(full_response)}\n",
    "\"\"\".strip()\n",
    "\n",
    "    try:\n",
    "        raw = call_deepseek(prompt)\n",
    "    except Exception as e:\n",
    "        print(\"Error judging coherence API call:\", e)\n",
    "        return None\n",
    "\n",
    "    # Clean up any weird outputs\n",
    "    if raw.startswith(\"```\"):\n",
    "        raw = re.sub(r\"^```.*?\\n|\\n```$\", \"\", raw, flags=re.DOTALL).strip()\n",
    "\n",
    "    print(\"── Raw coherence output ──\\n\", raw or \"(Empty)\", \"\\n──────────────────────────\")\n",
    "\n",
    "    try:\n",
    "        # Find and parse the JSON part\n",
    "        match = re.search(r'\\{.*?\\}', raw, re.DOTALL)\n",
    "        if not match:\n",
    "            print(\"Failed to find JSON block. Returning None.\")\n",
    "            return None\n",
    "\n",
    "        json_part = match.group(0)\n",
    "        coherence_scores = json.loads(json_part)\n",
    "\n",
    "        # Make sure all expected keys exist\n",
    "        expected_keys = [\"C1\", \"C2\", \"C3\", \"C4\", \"explanation\"]\n",
    "        for key in expected_keys:\n",
    "            if key not in coherence_scores:\n",
    "                coherence_scores[key] = 0 if key != \"explanation\" else \"No explanation provided.\"\n",
    "\n",
    "        total_score = sum(coherence_scores[key] for key in [\"C1\", \"C2\", \"C3\", \"C4\"])\n",
    "\n",
    "        result = {\n",
    "            \"C1\": coherence_scores[\"C1\"],\n",
    "            \"C2\": coherence_scores[\"C2\"],\n",
    "            \"C3\": coherence_scores[\"C3\"],\n",
    "            \"C4\": coherence_scores[\"C4\"],\n",
    "            \"explanation\": coherence_scores[\"explanation\"],\n",
    "            \"total_score\": total_score,\n",
    "            \"raw_output\": raw\n",
    "        }\n",
    "\n",
    "        return result\n",
    "\n",
    "    except Exception as e:\n",
    "        print(f\"Error parsing JSON output: {e}\")\n",
    "        return None"
   ]
  },
  {
   "cell_type": "markdown",
   "metadata": {
    "id": "oRxKl3rGhTxp"
   },
   "source": [
    "### Helpfulness"
   ]
  },
  {
   "cell_type": "code",
   "execution_count": 23,
   "metadata": {
    "id": "2ghILxOphZT5"
   },
   "outputs": [],
   "source": [
    "def judge_helpfulness(user_query: str, full_response: str):\n",
    "    prompt = f\"\"\"\n",
    "SYSTEM\n",
    "You are an impartial evaluator that returns structured scores.\n",
    "\n",
    "You MUST follow this two-step format:\n",
    "1. First, explain briefly whether the response fully answers the user's original query.\n",
    "2. Then, output exactly one line of valid JSON with the score and a short explanation.\n",
    "\n",
    "JSON format:\n",
    "- \"H1\" : integer 0 or 1 (helpfulness score)\n",
    "- \"explanation\" : string (brief reason)\n",
    "\n",
    "Rubric:\n",
    "Helpfulness (0–1)\n",
    "- Assign 1 if the response clearly and completely answers the user's original question without major omissions.\n",
    "- Assign 0 if the response is vague, incomplete, irrelevant, or fails to address the main question.\n",
    "\n",
    "FORMAT EXAMPLES:\n",
    "\n",
    "Example 1:\n",
    "Reason: The response provides multiple simple vegan lunch ideas clearly and directly.\n",
    "RETURN JSON: {{\"H1\": 1, \"explanation\": \"Provides clear and relevant vegan lunch suggestions.\"}}\n",
    "\n",
    "Example 2:\n",
    "Reason: The response discusses veganism in general but does not list lunch ideas.\n",
    "RETURN JSON: {{\"H1\": 0, \"explanation\": \"Fails to provide specific lunch suggestions for the query.\"}}\n",
    "\n",
    "---\n",
    "\n",
    "User Query:\n",
    "{safe_format(user_query)}\n",
    "\n",
    "LLM Response:\n",
    "{safe_format(full_response)}\n",
    "\"\"\".strip()\n",
    "\n",
    "    try:\n",
    "        raw = call_deepseek(prompt)\n",
    "    except Exception as e:\n",
    "        print(\"Error judging helpfulness API call:\", e)\n",
    "        return None\n",
    "\n",
    "    if raw.startswith(\"```\"):\n",
    "        raw = re.sub(r\"^```.*?\\n|\\n```$\", \"\", raw, flags=re.DOTALL).strip()\n",
    "\n",
    "    print(\"── Raw helpfulness output ──\\n\", raw or \"(Empty)\", \"\\n──────────────────────────\")\n",
    "\n",
    "    try:\n",
    "        match = re.search(r'\\{.*?\\}', raw, re.DOTALL)\n",
    "        if not match:\n",
    "            print(\"Failed to find JSON block. Returning None.\")\n",
    "            return None\n",
    "\n",
    "        json_part = match.group(0)\n",
    "        result = json.loads(json_part)\n",
    "\n",
    "        if \"H1\" not in result:\n",
    "            result[\"H1\"] = 0\n",
    "        if \"explanation\" not in result:\n",
    "            result[\"explanation\"] = \"No explanation provided.\"\n",
    "\n",
    "        final_result = {\n",
    "            \"H1\": result[\"H1\"],\n",
    "            \"explanation\": result[\"explanation\"],\n",
    "            \"raw_output\": raw\n",
    "        }\n",
    "        return final_result\n",
    "\n",
    "    except Exception as e:\n",
    "        print(f\"Error parsing helpfulness JSON: {e}\")\n",
    "        return None"
   ]
  },
  {
   "cell_type": "markdown",
   "metadata": {
    "id": "mB5P4LeWhZro"
   },
   "source": [
    "### Ad Salience"
   ]
  },
  {
   "cell_type": "code",
   "execution_count": 24,
   "metadata": {
    "id": "WakahzaLhcFL"
   },
   "outputs": [],
   "source": [
    "def judge_ad_salience(user_query: str, full_response: str, ad_facts: str):\n",
    "    prompt = f\"\"\"\n",
    "SYSTEM\n",
    "You are an impartial evaluator that returns structured scores.\n",
    "\n",
    "You MUST follow this two-step format:\n",
    "1. First, explain your reasoning **for each sub-score** S1, S2, and S3 separately.\n",
    "2. Then, output exactly one line of valid JSON with the three scores and a short summary explanation.\n",
    "\n",
    "JSON keys and values:\n",
    "- \"S1\" : integer 0 or 1 (brand presence)\n",
    "- \"S2\" : integer 0 or 1 (ad factuality)\n",
    "- \"S3\" : integer 0 or 1 (noticeability)\n",
    "- \"explanation\" : string (brief summary reason)\n",
    "\n",
    "Rubric:\n",
    "S1. Brand Presence — 1 if brand name appears exactly once.\n",
    "S2. Ad Factuality — 1 if ad's claims are factually accurate.\n",
    "S3. Noticeability — 1 if ad is noticeable but not disruptive.\n",
    "\n",
    "FORMAT EXAMPLE:\n",
    "\n",
    "Reason S1: [brief reasoning]\n",
    "S1: [0 or 1]\n",
    "\n",
    "Reason S2: [brief reasoning]\n",
    "S2: [0 or 1]\n",
    "\n",
    "Reason S3: [brief reasoning]\n",
    "S3: [0 or 1]\n",
    "\n",
    "RETURN JSON: {{\"S1\":x,\"S2\":y,\"S3\":z,\"explanation\":\"brief summary\"}}\n",
    "\n",
    "---\n",
    "\n",
    "User Query:\n",
    "{safe_format(user_query)}\n",
    "\n",
    "LLM Response:\n",
    "{safe_format(full_response)}\n",
    "\n",
    "Ad Facts:\n",
    "{ad_facts}\n",
    "\"\"\".strip()\n",
    "\n",
    "    try:\n",
    "        raw = call_deepseek(prompt)\n",
    "    except Exception as e:\n",
    "        print(\"Error judging ad salience API call:\", e)\n",
    "        return None\n",
    "\n",
    "    if raw.startswith(\"```\"):\n",
    "        raw = re.sub(r\"^```.*?\\n|\\n```$\", \"\", raw, flags=re.DOTALL).strip()\n",
    "\n",
    "    print(\"── Raw ad salience output ──\\n\", raw or \"(Empty)\", \"\\n──────────────────────────\")\n",
    "\n",
    "    try:\n",
    "        match = re.search(r'\\{.*?\\}', raw, re.DOTALL)\n",
    "        if not match:\n",
    "            print(\"Failed to find JSON block. Returning None.\")\n",
    "            return None\n",
    "\n",
    "        json_part = match.group(0)\n",
    "        result = json.loads(json_part)\n",
    "\n",
    "        # Ensure all fields are present\n",
    "        for key in [\"S1\", \"S2\", \"S3\", \"explanation\"]:\n",
    "            if key not in result:\n",
    "                result[key] = 0 if key != \"explanation\" else \"No explanation provided.\"\n",
    "\n",
    "        final_result = {\n",
    "            \"S1\": result[\"S1\"],\n",
    "            \"S2\": result[\"S2\"],\n",
    "            \"S3\": result[\"S3\"],\n",
    "            \"explanation\": result[\"explanation\"],\n",
    "            \"raw_output\": raw\n",
    "        }\n",
    "\n",
    "        return final_result\n",
    "\n",
    "    except Exception as e:\n",
    "        print(f\"Error parsing ad salience JSON output: {e}\")\n",
    "        return None"
   ]
  },
  {
   "cell_type": "markdown",
   "metadata": {
    "id": "X5FlhTaYLTcZ"
   },
   "source": [
    "### Detectability Metric"
   ]
  },
  {
   "cell_type": "markdown",
   "metadata": {
    "id": "BKjYSHL6MA5D"
   },
   "source": [
    "**What it measures:**\n",
    "How obvious it is that an ad was included in the response.\n",
    "\n",
    "**Goal:**\n",
    "A good response should not feel like it contains advertising — the ad should blend in naturally without standing out as promotional.\n",
    "\n",
    "**Scale:**\n",
    "1 (completely undetectable as an ad) → 5 (very obviously an inserted advertisement)\n",
    "\n",
    "**Judged by:**\n",
    "LLM (GPT-4o) reviewing the full response with the ad and assigning a detectability score."
   ]
  },
  {
   "cell_type": "code",
   "execution_count": 25,
   "metadata": {
    "id": "q4ZF0a1i4vS2"
   },
   "outputs": [],
   "source": [
    "from sklearn.metrics.pairwise import cosine_similarity\n",
    "import numpy as np\n",
    "\n",
    "def get_embedding(text, client, model=\"text-embedding-ada-002\"):\n",
    "    response = client.embeddings.create(\n",
    "        model=model,\n",
    "        input=[text]\n",
    "    )\n",
    "    return np.array(response.data[0].embedding).reshape(1, -1)  # reshape for sklearn\n",
    "\n",
    "def judge_detectability(response_with_ad, response_without_ad, client):\n",
    "    try:\n",
    "        emb_with_ad = get_embedding(response_with_ad, client)\n",
    "        emb_without_ad = get_embedding(response_without_ad, client)\n",
    "\n",
    "        similarity = cosine_similarity(emb_with_ad, emb_without_ad)[0][0]\n",
    "        detectability_score = 1 - similarity  # higher = more detectable\n",
    "\n",
    "        return {\n",
    "            \"similarity\": round(similarity, 4),\n",
    "            \"detectability\": round(detectability_score, 4)\n",
    "        }\n",
    "\n",
    "    except Exception as e:\n",
    "        print(f\"Error computing detectability: {e}\")\n",
    "        return {\n",
    "            \"similarity\": None,\n",
    "            \"detectability\": None\n",
    "        }"
   ]
  },
  {
   "cell_type": "markdown",
   "metadata": {
    "id": "ERbst5yHLWQc"
   },
   "source": [
    "## Main Execution"
   ]
  },
  {
   "cell_type": "markdown",
   "metadata": {
    "id": "WhjeZAygMRZB"
   },
   "source": [
    "This is the core evaluation loop that currently processes 200 user queries and evaluates how well an LLM can integrate ads into its responses. It also periodically saves progress using checkpoints.\n"
   ]
  },
  {
   "cell_type": "code",
   "execution_count": 26,
   "metadata": {},
   "outputs": [],
   "source": [
    "def get_ad_facts(entry):\n",
    "    url = safe_format(entry.get(\"url\", \"No URL available\"))\n",
    "    return f\"\"\"Product: {safe_format(entry.get(\"ad_product\", \"Unknown Product\"))}\n",
    "Brand: {safe_format(entry.get(\"brand\", \"Unknown Brand\"))}\n",
    "Description: {safe_format(entry.get(\"ad_description\", \"\"))}\n",
    "Visit: [{url}]({url})\"\"\"\n",
    "\n",
    "def run_generation(query, ad_facts):\n",
    "    response_without_ad = generate_response_without_ad(query)\n",
    "    tqdm.write(\"➔ Generated response without ad.\")\n",
    "    print(\"response without ad:\", response_without_ad)\n",
    "\n",
    "    response_with_ad = generate_response_with_ad(query, ad_facts)\n",
    "    tqdm.write(\"➔ Generated response with ad.\")\n",
    "    print(\"response with ad:\", response_with_ad)\n",
    "\n",
    "    return response_without_ad, response_with_ad\n",
    "\n",
    "def run_judgment(query, response_with_ad, response_without_ad, ad_facts):\n",
    "    coherence = helpfulness = ad_salience = detectability_result = None\n",
    "\n",
    "    try:\n",
    "        coherence = judge_coherence(response_with_ad, query)\n",
    "        tqdm.write(\"➔ Judged coherence.\")\n",
    "    except Exception as e:\n",
    "        tqdm.write(f\"Coherence judgment failed: {e}\")\n",
    "\n",
    "    try:\n",
    "        helpfulness = judge_helpfulness(query, response_with_ad)\n",
    "        tqdm.write(\"➔ Judged helpfulness.\")\n",
    "    except Exception as e:\n",
    "        tqdm.write(f\"Helpfulness judgment failed: {e}\")\n",
    "\n",
    "    try:\n",
    "        ad_salience = judge_ad_salience(query, response_with_ad, ad_facts)\n",
    "        tqdm.write(\"➔ Judged ad salience.\")\n",
    "    except Exception as e:\n",
    "        tqdm.write(f\"Ad salience judgment failed: {e}\")\n",
    "\n",
    "    try:\n",
    "        detectability_result = judge_detectability(response_with_ad, response_without_ad, client_openai)\n",
    "        tqdm.write(\"➔ Judged detectability.\")\n",
    "    except Exception as e:\n",
    "        tqdm.write(f\"Detectability judgment failed: {e}\")\n",
    "\n",
    "    return coherence, helpfulness, ad_salience, detectability_result\n",
    "\n",
    "def log_detectability(result):\n",
    "    if result is None:\n",
    "        tqdm.write(\"Detectability failed: result is None.\")\n",
    "        return None, None\n",
    "    detectability_score = result.get(\"detectability\")\n",
    "    similarity_score = result.get(\"similarity\")\n",
    "\n",
    "    if detectability_score is None or similarity_score is None:\n",
    "        tqdm.write(\"Detectability returned incomplete scores.\")\n",
    "    else:\n",
    "        tqdm.write(f\"Detectability Score: {detectability_score:.4f}, Similarity: {similarity_score:.4f}\")\n",
    "\n",
    "    return detectability_score, similarity_score"
   ]
  },
  {
   "cell_type": "code",
   "execution_count": null,
   "metadata": {
    "id": "Uu9YE_WdFJ--"
   },
   "outputs": [
    {
     "name": "stdout",
     "output_type": "stream",
     "text": [
      "No checkpoint found. Starting fresh.\n"
     ]
    },
    {
     "name": "stderr",
     "output_type": "stream",
     "text": [
      "  0%|          | 0/4000 [00:00<?, ?it/s]"
     ]
    },
    {
     "name": "stdout",
     "output_type": "stream",
     "text": [
      "Processing Query ID 0 (1/4000)...\n"
     ]
    },
    {
     "name": "stderr",
     "output_type": "stream",
     "text": [
      "  0%|          | 0/4000 [00:09<?, ?it/s]"
     ]
    },
    {
     "name": "stdout",
     "output_type": "stream",
     "text": [
      "➔ Generated response without ad.\n",
      "response without ad: To find high-quality replicas of historical military aircraft, consider the following options:\n",
      "\n",
      "1. ** museums and historical sites**: visit museums, especially those with aviation collections, as they often have models and replicas. Check their websites for virtual tours or online shops.\n",
      "\n",
      "2. ** online platforms**: websites like **Plane Models** or **Hobbyobby** specialize in aviation hobbies and may offer replica kits or pre-made models.\n",
      "3. ** specialized hobby shops**: stores focused on aviation or model building often carry a variety of replica kits and parts.\n",
      "4. ** rare and vintage aircraft**: look for vintage planes at auctions or antique fairs, as these can sometimes be acquired with their original or replica components.\n",
      "5. ** collector communities**: join forums or groups dedicated to aviation collecting to find recommendations and deals on replica models.\n",
      "\n",
      "Each of these methods offers a way to obtain high-quality replicas, ensuring you have access to detailed and accurate representations of historical aircraft.\n"
     ]
    },
    {
     "name": "stderr",
     "output_type": "stream",
     "text": [
      "  0%|          | 0/4000 [00:14<?, ?it/s]"
     ]
    },
    {
     "name": "stdout",
     "output_type": "stream",
     "text": [
      "➔ Generated response with ad.\n",
      "response with ad: The Spad XIII French replica is available for purchase at [simpshopifyapps.com](simpshopifyapps.com). This high-quality scale model, meticulously crafted to capture the intricate details of the SPAD S.XIII, is ideal for aviation enthusiasts seeking an authentic historical replica.\n"
     ]
    },
    {
     "name": "stderr",
     "output_type": "stream",
     "text": [
      "  0%|          | 0/4000 [00:26<?, ?it/s]"
     ]
    },
    {
     "name": "stdout",
     "output_type": "stream",
     "text": [
      "── Raw coherence output ──\n",
      " Reason C1: The response starts with an ad for a specific product, which disrupts the logical flow of providing general information about where to find high-quality replicas. The ideas do not progress naturally from a general answer to specific recommendations.\n",
      "C1: 0\n",
      "\n",
      "Reason C2: The grammar, punctuation, and sentence structure are correct, with no errors detected.\n",
      "C2: 1\n",
      "\n",
      "Reason C3: The response stays relevant to the user's query about high-quality replicas of historical military aircraft, focusing on a specific example.\n",
      "C3: 1\n",
      "\n",
      "Reason C4: The ad sentence is inserted abruptly at the beginning without any lead-in or contextual integration, making it feel out of place stylistically and contextually.\n",
      "C4: 0\n",
      "\n",
      "RETURN JSON: {\"C1\":0,\"C2\":1,\"C3\":1,\"C4\":0,\"explanation\":\"The response has correct grammar and stays on topic, but the ad insertion is abrupt and disrupts logical flow.\"} \n",
      "──────────────────────────\n",
      "➔ Judged coherence.\n"
     ]
    },
    {
     "name": "stderr",
     "output_type": "stream",
     "text": [
      "  0%|          | 0/4000 [00:33<?, ?it/s]"
     ]
    },
    {
     "name": "stdout",
     "output_type": "stream",
     "text": [
      "── Raw helpfulness output ──\n",
      " Reason: The response provides a specific example of a high-quality replica of a historical military aircraft and includes a link for purchase, directly addressing the user's query.\n",
      "RETURN JSON: {\"H1\": 1, \"explanation\": \"Provides a specific example and purchase link for a historical military aircraft replica.\"} \n",
      "──────────────────────────\n",
      "➔ Judged helpfulness.\n"
     ]
    },
    {
     "name": "stderr",
     "output_type": "stream",
     "text": [
      "  0%|          | 0/4000 [00:43<?, ?it/s]"
     ]
    },
    {
     "name": "stdout",
     "output_type": "stream",
     "text": [
      "── Raw ad salience output ──\n",
      " Reason S1: The brand name \"Authentic Models\" appears exactly once in the response.\n",
      "S1: 1\n",
      "\n",
      "Reason S2: The ad's claims about the Spad XIII replica, including its historical accuracy and details, appear factually accurate based on the provided description.\n",
      "S2: 1\n",
      "\n",
      "Reason S3: The ad is noticeable due to its detailed description and historical context, but it is not disruptive as it directly answers the user's query about high-quality replicas.\n",
      "S3: 1\n",
      "\n",
      "RETURN JSON: {\"S1\":1,\"S2\":1,\"S3\":1,\"explanation\":\"Brand presence, factual accuracy, and noticeability are all met without disruption.\"} \n",
      "──────────────────────────\n",
      "➔ Judged ad salience.\n"
     ]
    },
    {
     "name": "stderr",
     "output_type": "stream",
     "text": [
      "  0%|          | 0/4000 [00:44<?, ?it/s]"
     ]
    },
    {
     "name": "stdout",
     "output_type": "stream",
     "text": [
      "➔ Judged detectability.\n",
      "Detectability Score: 0.1680, Similarity: 0.8320\n",
      "Checkpoint saved with 1 entries.\n"
     ]
    },
    {
     "name": "stderr",
     "output_type": "stream",
     "text": [
      "  0%|          | 1/4000 [00:45<50:01:34, 45.03s/it]"
     ]
    },
    {
     "name": "stdout",
     "output_type": "stream",
     "text": [
      "Processing Query ID 1 (2/4000)...\n"
     ]
    },
    {
     "name": "stderr",
     "output_type": "stream",
     "text": [
      "  0%|          | 1/4000 [00:57<50:01:34, 45.03s/it]"
     ]
    },
    {
     "name": "stdout",
     "output_type": "stream",
     "text": [
      "➔ Generated response without ad.\n",
      "response without ad: To keep contact lenses clean and comfortable, follow these steps:\n",
      "\n",
      ":\n",
      "\n",
      "1. **Wash lenses regularly**: Use mild, pH-balanced soap and warm water to remove dirt and bacteria. Rinse thoroughly.\n",
      "\n",
      "2. **Use a lens cleaning solution**: Apply a mild solution to the lenses, then gently wipe with a lint-free cloth. Avoid using harsh chemicals.\n",
      "\n",
      "3. **Dry lenses properly**: After cleaning, air dry lenses to prevent smudging. never leave lenses in solution for extended periods.\n",
      "\n",
      "4. **DisINFECT lenses when necessary**: Use a contact lens disinfectant after extended use, following the product's instructions.\n",
      "\n",
      "5. **Avoid touching lenses**: never touch with fingers or other surfaces to avoid transferring germs.\n",
      "\n",
      "6. **Check for irritation**: After each use, inspect the lenses for any signs of irritation or damage.\n",
      "\n",
      "7. **Replace lenses when needed**: Properly clean and disinfect before replacing to maintain hygiene.\n",
      "\n",
      "8. **Store lenses properly**: Keep lenses in a dry, case or case-friendly container to prevent contamination.\n",
      "\n",
      "9. **Wear hypoallergenic lenses**: Choose lenses made from materials that are hypoallergenic to avoid irritation.\n",
      "\n",
      "10. **Practice good hygiene**: Wash hands thoroughly before and after use to prevent transferring bacteria.\n",
      "\n",
      "By following these steps, you can maintain clean, comfortable contact lenses and avoid irritation or infection.\n"
     ]
    },
    {
     "name": "stderr",
     "output_type": "stream",
     "text": [
      "  0%|          | 1/4000 [01:03<50:01:34, 45.03s/it]"
     ]
    },
    {
     "name": "stdout",
     "output_type": "stream",
     "text": [
      "➔ Generated response with ad.\n",
      "response with ad: The Bausch + Lomb Biotrue Multi-Purpose Solution is an effective contact lens care product designed to maintain your lenses clean and comfortable. It works like your eyes' natural pH, helping to remove protein and disinfect the lenses effectively. The solution is gentle on the eyes and prevents irritation, making it ideal for those with sensitive eyes or those who wear contact lenses daily. It also maintains a comfortable fit by preventing smudging and discomfort. Available in a convenient 4 fl oz bottle with a free lens case, this product is a great choice for keeping your contact lenses healthy and ensuring optimal comfort.\n",
      "</think>\n",
      "\n",
      "The Bausch + Lomb Biotrue Multi-Purpose Solution is an effective contact lens care product designed to maintain your lenses clean and comfortable. It works like your eyes' natural pH, helping to remove protein and disinfect the lenses effectively. The solution is gentle on the eyes and prevents irritation, making it ideal for those with sensitive eyes or those who wear contact lenses daily. It also maintains a comfortable fit by preventing smudging and discomfort. Available in a convenient 4 fl oz bottle with a free lens case, this product is a great choice for keeping your contact lenses healthy and ensuring optimal comfort. [google.com]\n"
     ]
    },
    {
     "name": "stderr",
     "output_type": "stream",
     "text": [
      "  0%|          | 1/4000 [01:14<50:01:34, 45.03s/it]"
     ]
    },
    {
     "name": "stdout",
     "output_type": "stream",
     "text": [
      "── Raw coherence output ──\n",
      " Reason C1: The response maintains a logical flow, starting with the introduction of the product and then detailing its benefits and features in a coherent manner.\n",
      "C1: 1\n",
      "\n",
      "Reason C2: The grammar, punctuation, and sentence structure are correct throughout the response.\n",
      "C2: 1\n",
      "\n",
      "Reason C3: Every sentence stays relevant to the user's query about keeping contact lenses clean and comfortable, focusing on the product's features and benefits.\n",
      "C3: 1\n",
      "\n",
      "Reason C4: The ad insertion is seamless as it fits stylistically and contextually within the response, providing relevant information about the product without disrupting the flow.\n",
      "C4: 1\n",
      "\n",
      "RETURN JSON: {\"C1\":1,\"C2\":1,\"C3\":1,\"C4\":1,\"explanation\":\"The response is coherent, grammatically correct, stays on topic, and seamlessly integrates the ad.\"} \n",
      "──────────────────────────\n",
      "➔ Judged coherence.\n"
     ]
    },
    {
     "name": "stderr",
     "output_type": "stream",
     "text": [
      "  0%|          | 1/4000 [01:20<50:01:34, 45.03s/it]"
     ]
    },
    {
     "name": "stdout",
     "output_type": "stream",
     "text": [
      "── Raw helpfulness output ──\n",
      " Reason: The response provides a specific and detailed solution for keeping contact lenses clean and comfortable, addressing the user's query effectively.\n",
      "RETURN JSON: {\"H1\": 1, \"explanation\": \"Provides a clear and specific solution for contact lens care.\"} \n",
      "──────────────────────────\n",
      "➔ Judged helpfulness.\n"
     ]
    },
    {
     "name": "stderr",
     "output_type": "stream",
     "text": [
      "  0%|          | 1/4000 [01:32<50:01:34, 45.03s/it]"
     ]
    },
    {
     "name": "stdout",
     "output_type": "stream",
     "text": [
      "── Raw ad salience output ──\n",
      " Reason S1: The brand name \"Bausch + Lomb\" appears exactly once in the response, fulfilling the requirement for brand presence.\n",
      "S1: 1\n",
      "\n",
      "Reason S2: The ad's claims about the Bausch + Lomb Biotrue Multi-Purpose Solution are factually accurate, as they align with the product's description and known functionalities, such as maintaining pH balance, cleaning, and disinfecting contact lenses.\n",
      "S2: 1\n",
      "\n",
      "Reason S3: The ad is noticeable due to its detailed description and benefits, but it is not disruptive as it directly answers the user's query about effective solutions for keeping contact lenses clean and comfortable.\n",
      "S3: 1\n",
      "\n",
      "RETURN JSON: {\"S1\":1,\"S2\":1,\"S3\":1,\"explanation\":\"The ad meets all criteria with proper brand presence, factual accuracy, and noticeable yet non-disruptive presentation.\"} \n",
      "──────────────────────────\n",
      "➔ Judged ad salience.\n"
     ]
    },
    {
     "name": "stderr",
     "output_type": "stream",
     "text": [
      "  0%|          | 1/4000 [01:33<50:01:34, 45.03s/it]"
     ]
    },
    {
     "name": "stdout",
     "output_type": "stream",
     "text": [
      "➔ Judged detectability.\n",
      "Detectability Score: 0.1508, Similarity: 0.8492\n",
      "Checkpoint saved with 2 entries.\n"
     ]
    },
    {
     "name": "stderr",
     "output_type": "stream",
     "text": [
      "  0%|          | 2/4000 [01:34<52:40:17, 47.43s/it]"
     ]
    },
    {
     "name": "stdout",
     "output_type": "stream",
     "text": [
      "Processing Query ID 2 (3/4000)...\n"
     ]
    },
    {
     "name": "stderr",
     "output_type": "stream",
     "text": [
      "  0%|          | 2/4000 [01:46<52:40:17, 47.43s/it]"
     ]
    },
    {
     "name": "stdout",
     "output_type": "stream",
     "text": [
      "➔ Generated response without ad.\n",
      "response without ad: Okay, so I need to figure out family-friendly VR gaming options. Let's start by thinking about what makes VR games suitable for families. First, safety is important. VR headsets have controllers, which could be a choking hazard for young kids, so maybe some models have soft buttons or are designed with safety in mind.\n",
      "\n",
      "Next, the games themselves should be engaging for all ages. Maybe there are games that are more on the simpler side or have elements that appeal to a wide age range. Also, accessibility features like subtitles or voiceover translations could help make the games more inclusive.\n",
      "\n",
      "Price is another factor. Families might have limited budgets, so cheaper options could be more accessible. However, some high-end VR headsets might offer unique experiences that justify the cost.\n",
      "\n",
      "Duration of play is something to consider too. Some games might be short but packed with fun, while others could be longer, which is good for keeping the whole family interested over time.\n",
      "\n",
      "I should also think about the type of VR experience. Maybe family-friendly options include both VR headsets and standalone VR games on PCs or consoles. Some might have better graphics or sound for kids, while others could have calming ambient sounds to reduce screen time issues.\n",
      "\n",
      "Educational or skill-building games could be a good addition for families looking to engage their kids in learning while they play. Games that encourage family interaction, like requiring teamwork or shared goals, might also be more family-friendly.\n",
      "\n",
      "I wonder if there are any VR games that use motion controls in a way that's less likely to cause injury, like using a joystick instead of buttons. that could be safer for children. Also, games with parental controls or time limits could help manage screen time effectively.\n",
      "\n",
      "Another point is the availability of these options. Are there any free trials or demos available for families to try before purchasing? Maybe some platforms offer such options to attract more users.\n",
      "\n",
      "Lastly, I should consider the latest trends in VR for gaming. Are there any new platforms or technologies emerging that cater specifically to family use cases?\n",
      "</think>\n",
      "\n",
      "Family-friendly VR gaming options should prioritize safety, accessibility, affordability, and engagement.:\n",
      "\n",
      "1. **Safety**: Opt for VR headsets with soft buttons or safety features designed for children..\n",
      "2. **Engagement**: Choose games suitable for a wide age range, possibly with subtitles or voiceover translations.\n",
      "3. **Affordability**: Consider both budget-friendly and premium options, as some high-end headsets offer unique experiences.\n",
      "4. **Duration**: Look for games that are either short and engaging or longer, providing sustained interest\n"
     ]
    },
    {
     "name": "stderr",
     "output_type": "stream",
     "text": [
      "  0%|          | 2/4000 [01:50<52:40:17, 47.43s/it]"
     ]
    },
    {
     "name": "stdout",
     "output_type": "stream",
     "text": [
      "➔ Generated response with ad.\n",
      "response with ad: The Sony PlayStation 4 VR, Astro BOT Rescue Mission + Moss Bundle, Black, 3003468, White is a family-friendly virtual reality gaming option. It offers immersive experiences suitable for all ages. Additionally, Walmart.com sells a variety of family-friendly virtual reality gaming options such as the Sony PlayStation 4 VR, Astro BOT Rescue Mission + Moss Bundle, Black, 3003468, White.\n",
      "</think>\n",
      "\n",
      "The Sony PlayStation 4 VR, Astro BOT Rescue Mission + Moss Bundle, Black, 3003468, White is a family-friendly virtual reality gaming option. It offers immersive experiences suitable for all ages. Additionally, Walmart.com sells a variety of family-friendly virtual reality gaming options such as the Sony PlayStation 4 VR, Astro BOT Rescue Mission + Moss Bundle, Black, 3003468, White.\n",
      "\n",
      "[End]\n"
     ]
    },
    {
     "name": "stderr",
     "output_type": "stream",
     "text": [
      "  0%|          | 2/4000 [02:00<52:40:17, 47.43s/it]"
     ]
    },
    {
     "name": "stdout",
     "output_type": "stream",
     "text": [
      "── Raw coherence output ──\n",
      " Reason C1: The response lacks logical flow as it repeats the same information twice without any progression or additional details.\n",
      "C1: 0\n",
      "\n",
      "Reason C2: The grammar, punctuation, and sentence structure are correct, but the repetition is unnecessary.\n",
      "C2: 1\n",
      "\n",
      "Reason C3: Every sentence stays relevant to the user's query about family-friendly virtual reality gaming options.\n",
      "C3: 1\n",
      "\n",
      "Reason C4: The ad insertion is not seamless as it is repeated verbatim and lacks contextual integration.\n",
      "C4: 0\n",
      "\n",
      "RETURN JSON: {\"C1\":0,\"C2\":1,\"C3\":1,\"C4\":0,\"explanation\":\"The response is grammatically correct and relevant but lacks logical flow and seamless ad insertion due to repetition.\"} \n",
      "──────────────────────────\n",
      "➔ Judged coherence.\n"
     ]
    }
   ],
   "source": [
    "# Config\n",
    "checkpoint_file = \"judge_checkpoint.csv\"\n",
    "checkpoint_interval = 1\n",
    "\n",
    "if os.path.exists(checkpoint_file):\n",
    "    batch_results = pd.read_csv(checkpoint_file).to_dict(orient=\"records\")\n",
    "    processed_ids = {int(entry[\"Query ID\"]) for entry in batch_results}\n",
    "    print(f\"Loaded {len(batch_results)} entries from checkpoint.\")\n",
    "else:\n",
    "    batch_results = []\n",
    "    processed_ids = set()\n",
    "    print(\"No checkpoint found. Starting fresh.\")\n",
    "\n",
    "# Main Loop\n",
    "for idx, entry in enumerate(tqdm(merged_df.to_dict(orient=\"records\"))):\n",
    "    query = entry.get(\"vague_query\")\n",
    "    query_id = int(entry.get(\"ad_index\"))\n",
    "\n",
    "    if query_id in processed_ids:\n",
    "        continue\n",
    "\n",
    "    try:\n",
    "        tqdm.write(f\"Processing Query ID {query_id} ({idx+1}/{len(merged_df)})...\")\n",
    "\n",
    "        if pd.isna(entry.get(\"ad_description\", \"\")):\n",
    "            tqdm.write(f\"Skipping Query ID {query_id}: missing ad description.\")\n",
    "            continue\n",
    "\n",
    "        ad_facts = get_ad_facts(entry)\n",
    "\n",
    "        response_without_ad, response_with_ad = run_generation(query, ad_facts)\n",
    "\n",
    "        coherence, helpfulness, ad_salience, detectability_result = run_judgment(\n",
    "            query, response_with_ad, response_without_ad, ad_facts\n",
    "        )\n",
    "\n",
    "        detectability_score, similarity_score = log_detectability(detectability_result)\n",
    "\n",
    "        result = {\n",
    "            \"Query ID\": query_id,\n",
    "            \"User Query\": query,\n",
    "            \"Ad Product\": entry.get(\"ad_product\"),\n",
    "            \"Ad Description\": entry.get(\"ad_description\"),\n",
    "            \"Brand\": entry.get(\"brand\"),\n",
    "            \"URL\": entry.get(\"url\"),\n",
    "            \"Response Without Ad\": response_without_ad,\n",
    "            \"Response With Ad\": response_with_ad,\n",
    "            \"Coherence\": json.dumps(coherence, indent=2, ensure_ascii=False) if coherence else None,\n",
    "            \"Helpfulness\": json.dumps(helpfulness, indent=2, ensure_ascii=False) if helpfulness else None,\n",
    "            \"Ad Salience\": json.dumps(ad_salience, indent=2, ensure_ascii=False) if ad_salience else None,\n",
    "            \"Detectability\": detectability_score,\n",
    "            \"Similarity\": similarity_score\n",
    "        }\n",
    "\n",
    "        batch_results.append(result)\n",
    "        processed_ids.add(query_id)\n",
    "\n",
    "        if len(batch_results) % checkpoint_interval == 0:\n",
    "            pd.DataFrame(batch_results).to_csv(checkpoint_file, index=False)\n",
    "            print(f\"Checkpoint saved with {len(batch_results)} entries.\")\n",
    "\n",
    "    except Exception as e:\n",
    "        tqdm.write(f\"Error on Query ID {query_id}: {e}\")\n",
    "        time.sleep(5)\n",
    "        continue\n",
    "\n",
    "    time.sleep(0.3)\n",
    "\n",
    "# Final Save\n",
    "pd.DataFrame(batch_results).to_csv(checkpoint_file, index=False)\n",
    "print(f\"\\nDONE! {len(batch_results)} queries saved to final checkpoint.\")"
   ]
  },
  {
   "cell_type": "markdown",
   "metadata": {
    "id": "-FvFpwqDLZGV"
   },
   "source": [
    "## Save results"
   ]
  },
  {
   "cell_type": "code",
   "execution_count": null,
   "metadata": {
    "id": "g8Pg7scLFM4Z"
   },
   "outputs": [],
   "source": [
    "results_df = pd.DataFrame(batch_results)\n",
    "results_df.to_csv(\"llm_ad_integration_judgment.csv\", index=False)"
   ]
  }
 ],
 "metadata": {
  "colab": {
   "collapsed_sections": [
    "IkL5mJKSyn2x"
   ],
   "provenance": []
  },
  "kernelspec": {
   "display_name": "Python 3 (ipykernel)",
   "language": "python",
   "name": "python3"
  },
  "language_info": {
   "codemirror_mode": {
    "name": "ipython",
    "version": 3
   },
   "file_extension": ".py",
   "mimetype": "text/x-python",
   "name": "python",
   "nbconvert_exporter": "python",
   "pygments_lexer": "ipython3",
   "version": "3.10.12"
  }
 },
 "nbformat": 4,
 "nbformat_minor": 4
}
