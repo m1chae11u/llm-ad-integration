{
 "cells": [
  {
   "cell_type": "code",
   "execution_count": 3,
   "id": "761fc5f2-3be5-4d0b-bb50-15cbfbf2b475",
   "metadata": {},
   "outputs": [],
   "source": [
    "from bert_score import score\n",
    "import numpy as np\n"
   ]
  },
  {
   "cell_type": "code",
   "execution_count": null,
   "id": "4e880c22-4e7c-4e8c-9fe1-cd58ae57b694",
   "metadata": {},
   "outputs": [],
   "source": []
  },
  {
   "cell_type": "code",
   "execution_count": 5,
   "id": "ff444c9d-abdf-4280-b8e2-8bc8011aa9c0",
   "metadata": {},
   "outputs": [],
   "source": [
    "def bertscore_similarity(query, candidate_texts, model_type=\"bert-base-uncased\"):\n",
    "    \"\"\"\n",
    "    Compute BERTScore F1 between the query and a list of candidate texts.\n",
    "    Returns a list of similarity scores.\n",
    "    \"\"\"\n",
    "    # Score returns P, R, F1 — we use F1 as the match score\n",
    "    P, R, F1 = score([query] * len(candidate_texts), candidate_texts, lang=\"en\", model_type=model_type, verbose=False)\n",
    "    return F1.tolist()"
   ]
  },
  {
   "cell_type": "code",
   "execution_count": 7,
   "id": "b39dd463-20c4-48c9-94d1-c15e64ba140e",
   "metadata": {},
   "outputs": [],
   "source": [
    "def retrieve_ads_bertscore(query, ad_metadata_df, text_column=\"ad_description\", top_k=5):\n",
    "    \"\"\"\n",
    "    Retrieves top_k ads based on BERTScore similarity with the query.\n",
    "    \"\"\"\n",
    "    candidate_texts = ad_metadata_df[text_column].tolist()\n",
    "    scores = bertscore_similarity(query, candidate_texts)\n",
    "    \n",
    "    top_indices = np.argsort(scores)[::-1][:top_k]  # descending order\n",
    "    return ad_metadata_df.iloc[top_indices]"
   ]
  },
  {
   "cell_type": "code",
   "execution_count": null,
   "id": "2960dcef-5eea-4d49-be81-30b870405bee",
   "metadata": {},
   "outputs": [],
   "source": [
    "### Implementation of Bert Score ( rename for query generations"
   ]
  },
  {
   "cell_type": "code",
   "execution_count": 9,
   "id": "286e5716-664b-44b8-b607-c1d01272887f",
   "metadata": {},
   "outputs": [
    {
     "ename": "NameError",
     "evalue": "name 'query' is not defined",
     "output_type": "error",
     "traceback": [
      "\u001b[0;31m---------------------------------------------------------------------------\u001b[0m",
      "\u001b[0;31mNameError\u001b[0m                                 Traceback (most recent call last)",
      "Cell \u001b[0;32mIn[9], line 1\u001b[0m\n\u001b[0;32m----> 1\u001b[0m retrieved_ads \u001b[38;5;241m=\u001b[39m retrieve_ads_bertscore(query, ad_metadata_df, top_k\u001b[38;5;241m=\u001b[39m\u001b[38;5;241m5\u001b[39m)\n\u001b[1;32m      2\u001b[0m response_with_ad \u001b[38;5;241m=\u001b[39m generate_response_with_rag_ads(query, client, index\u001b[38;5;241m=\u001b[39m\u001b[38;5;28;01mNone\u001b[39;00m, ad_metadata_df\u001b[38;5;241m=\u001b[39mretrieved_ads, top_k\u001b[38;5;241m=\u001b[39m\u001b[38;5;241m5\u001b[39m)\n\u001b[1;32m      3\u001b[0m print_retrieved_ads_bertscore(query, ad_metadata_df, top_k\u001b[38;5;241m=\u001b[39m\u001b[38;5;241m5\u001b[39m)\n",
      "\u001b[0;31mNameError\u001b[0m: name 'query' is not defined"
     ]
    }
   ],
   "source": [
    "retrieved_ads = retrieve_ads_bertscore(query, ad_metadata_df, top_k=5)\n",
    "response_with_ad = generate_response_with_rag_ads(query, client, index=None, ad_metadata_df=retrieved_ads, top_k=5)\n",
    "print_retrieved_ads_bertscore(query, ad_metadata_df, top_k=5)"
   ]
  },
  {
   "cell_type": "code",
   "execution_count": null,
   "id": "37b19d29-2e7b-4070-9c77-329ec7c3c770",
   "metadata": {},
   "outputs": [],
   "source": []
  }
 ],
 "metadata": {
  "kernelspec": {
   "display_name": "Python 3 (ipykernel)",
   "language": "python",
   "name": "python3"
  },
  "language_info": {
   "codemirror_mode": {
    "name": "ipython",
    "version": 3
   },
   "file_extension": ".py",
   "mimetype": "text/x-python",
   "name": "python",
   "nbconvert_exporter": "python",
   "pygments_lexer": "ipython3",
   "version": "3.11.7"
  }
 },
 "nbformat": 4,
 "nbformat_minor": 5
}
