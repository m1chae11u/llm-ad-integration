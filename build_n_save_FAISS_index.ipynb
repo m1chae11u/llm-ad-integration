{
 "cells": [
  {
   "cell_type": "markdown",
   "id": "04021d32-b3e6-41a1-a5b5-6e03d0210cea",
   "metadata": {},
   "source": [
    "# Build and Save FAISS Index"
   ]
  },
  {
   "cell_type": "markdown",
   "id": "fc8d9ace-dbde-4c9a-8040-e1c489d3c066",
   "metadata": {
    "jp-MarkdownHeadingCollapsed": true
   },
   "source": [
    "## This is a system that can store and retrieve ads based on how similar they are to given prompt or context:\n",
    "- A way to convert text into numbers -> embedding\n",
    "- A fast system to search through these numbers and find similar ones -> FAISS"
   ]
  },
  {
   "cell_type": "markdown",
   "id": "3aba0257-de34-4514-8fd7-507b4cb5e1a1",
   "metadata": {
    "jp-MarkdownHeadingCollapsed": true
   },
   "source": [
    "## Installation & Import"
   ]
  },
  {
   "cell_type": "code",
   "execution_count": 4,
   "id": "5d03183f-6bc2-43c7-90b7-a7f7fda6658d",
   "metadata": {
    "scrolled": true
   },
   "outputs": [
    {
     "name": "stdout",
     "output_type": "stream",
     "text": [
      "Requirement already satisfied: faiss-cpu in /opt/anaconda3/lib/python3.12/site-packages (1.10.0)\n",
      "Requirement already satisfied: numpy<3.0,>=1.25.0 in /opt/anaconda3/lib/python3.12/site-packages (from faiss-cpu) (1.26.4)\n",
      "Requirement already satisfied: packaging in /opt/anaconda3/lib/python3.12/site-packages (from faiss-cpu) (24.2)\n",
      "Requirement already satisfied: sentence-transformers in /opt/anaconda3/lib/python3.12/site-packages (4.0.1)\n",
      "Requirement already satisfied: transformers<5.0.0,>=4.41.0 in /opt/anaconda3/lib/python3.12/site-packages (from sentence-transformers) (4.48.0)\n",
      "Requirement already satisfied: tqdm in /opt/anaconda3/lib/python3.12/site-packages (from sentence-transformers) (4.67.1)\n",
      "Requirement already satisfied: torch>=1.11.0 in /opt/anaconda3/lib/python3.12/site-packages (from sentence-transformers) (2.5.1)\n",
      "Requirement already satisfied: scikit-learn in /opt/anaconda3/lib/python3.12/site-packages (from sentence-transformers) (1.4.2)\n",
      "Requirement already satisfied: scipy in /opt/anaconda3/lib/python3.12/site-packages (from sentence-transformers) (1.15.2)\n",
      "Requirement already satisfied: huggingface-hub>=0.20.0 in /opt/anaconda3/lib/python3.12/site-packages (from sentence-transformers) (0.25.0)\n",
      "Requirement already satisfied: Pillow in /opt/anaconda3/lib/python3.12/site-packages (from sentence-transformers) (11.1.0)\n",
      "Requirement already satisfied: typing_extensions>=4.5.0 in /opt/anaconda3/lib/python3.12/site-packages (from sentence-transformers) (4.12.2)\n",
      "Requirement already satisfied: filelock in /opt/anaconda3/lib/python3.12/site-packages (from huggingface-hub>=0.20.0->sentence-transformers) (3.13.1)\n",
      "Requirement already satisfied: fsspec>=2023.5.0 in /opt/anaconda3/lib/python3.12/site-packages (from huggingface-hub>=0.20.0->sentence-transformers) (2024.3.1)\n",
      "Requirement already satisfied: packaging>=20.9 in /opt/anaconda3/lib/python3.12/site-packages (from huggingface-hub>=0.20.0->sentence-transformers) (24.2)\n",
      "Requirement already satisfied: pyyaml>=5.1 in /opt/anaconda3/lib/python3.12/site-packages (from huggingface-hub>=0.20.0->sentence-transformers) (6.0.1)\n",
      "Requirement already satisfied: requests in /opt/anaconda3/lib/python3.12/site-packages (from huggingface-hub>=0.20.0->sentence-transformers) (2.32.3)\n",
      "Requirement already satisfied: networkx in /opt/anaconda3/lib/python3.12/site-packages (from torch>=1.11.0->sentence-transformers) (3.2.1)\n",
      "Requirement already satisfied: jinja2 in /opt/anaconda3/lib/python3.12/site-packages (from torch>=1.11.0->sentence-transformers) (3.1.4)\n",
      "Requirement already satisfied: setuptools in /opt/anaconda3/lib/python3.12/site-packages (from torch>=1.11.0->sentence-transformers) (69.5.1)\n",
      "Requirement already satisfied: sympy==1.13.1 in /opt/anaconda3/lib/python3.12/site-packages (from torch>=1.11.0->sentence-transformers) (1.13.1)\n",
      "Requirement already satisfied: mpmath<1.4,>=1.1.0 in /opt/anaconda3/lib/python3.12/site-packages (from sympy==1.13.1->torch>=1.11.0->sentence-transformers) (1.3.0)\n",
      "Requirement already satisfied: numpy>=1.17 in /opt/anaconda3/lib/python3.12/site-packages (from transformers<5.0.0,>=4.41.0->sentence-transformers) (1.26.4)\n",
      "Requirement already satisfied: regex!=2019.12.17 in /opt/anaconda3/lib/python3.12/site-packages (from transformers<5.0.0,>=4.41.0->sentence-transformers) (2023.10.3)\n",
      "Requirement already satisfied: tokenizers<0.22,>=0.21 in /opt/anaconda3/lib/python3.12/site-packages (from transformers<5.0.0,>=4.41.0->sentence-transformers) (0.21.0)\n",
      "Requirement already satisfied: safetensors>=0.4.1 in /opt/anaconda3/lib/python3.12/site-packages (from transformers<5.0.0,>=4.41.0->sentence-transformers) (0.4.5)\n",
      "Requirement already satisfied: joblib>=1.2.0 in /opt/anaconda3/lib/python3.12/site-packages (from scikit-learn->sentence-transformers) (1.4.2)\n",
      "Requirement already satisfied: threadpoolctl>=2.0.0 in /opt/anaconda3/lib/python3.12/site-packages (from scikit-learn->sentence-transformers) (2.2.0)\n",
      "Requirement already satisfied: MarkupSafe>=2.0 in /opt/anaconda3/lib/python3.12/site-packages (from jinja2->torch>=1.11.0->sentence-transformers) (2.1.3)\n",
      "Requirement already satisfied: charset-normalizer<4,>=2 in /opt/anaconda3/lib/python3.12/site-packages (from requests->huggingface-hub>=0.20.0->sentence-transformers) (2.0.4)\n",
      "Requirement already satisfied: idna<4,>=2.5 in /opt/anaconda3/lib/python3.12/site-packages (from requests->huggingface-hub>=0.20.0->sentence-transformers) (3.10)\n",
      "Requirement already satisfied: urllib3<3,>=1.21.1 in /opt/anaconda3/lib/python3.12/site-packages (from requests->huggingface-hub>=0.20.0->sentence-transformers) (2.2.2)\n",
      "Requirement already satisfied: certifi>=2017.4.17 in /opt/anaconda3/lib/python3.12/site-packages (from requests->huggingface-hub>=0.20.0->sentence-transformers) (2025.1.31)\n"
     ]
    }
   ],
   "source": [
    "!pip install faiss-cpu\n",
    "!pip install sentence-transformers"
   ]
  },
  {
   "cell_type": "code",
   "execution_count": 5,
   "id": "a6bb4929-2586-4ff6-a656-a31bde74e9b2",
   "metadata": {},
   "outputs": [],
   "source": [
    "import os\n",
    "import faiss\n",
    "import numpy as np\n",
    "from sentence_transformers import SentenceTransformer\n",
    "import json\n",
    "import argparse\n",
    "import pandas as pd"
   ]
  },
  {
   "cell_type": "markdown",
   "id": "870f1d0c-d34e-4f75-bc7b-13ca7ed013ec",
   "metadata": {},
   "source": [
    "## Load the dataset from Github"
   ]
  },
  {
   "cell_type": "code",
   "execution_count": 7,
   "id": "ddafe22d-db63-4b0a-b08c-a73b11bf3e00",
   "metadata": {},
   "outputs": [
    {
     "name": "stdout",
     "output_type": "stream",
     "text": [
      "   ad_id                      domain     category                  product  \\\n",
      "0      1  Consumer Goods and Retails  Electronics          EchoAir Earbuds   \n",
      "1      2  Consumer Goods and Retails  Electronics  QuantumPulse Smartwatch   \n",
      "2      3  Consumer Goods and Retails  Electronics          VoltCharger Pro   \n",
      "3      4  Consumer Goods and Retails  Electronics       ApertureAce Camera   \n",
      "4      5  Consumer Goods and Retails  Electronics        SonicEcho Speaker   \n",
      "\n",
      "                                        ad_key_words  \\\n",
      "0  ['wireless', 'noise-cancelling', 'high-fidelit...   \n",
      "1  ['Smartwatch', 'Health Monitor', 'Connectivity...   \n",
      "2  ['Fast Charging', 'Portable', 'Universal Compa...   \n",
      "3  ['Photography', 'High-Resolution', 'Versatile'...   \n",
      "4  ['wireless', 'high-fidelity', 'portable', 'Blu...   \n",
      "\n",
      "                                      ad_description  \\\n",
      "0  Experience sound like never before with EchoAi...   \n",
      "1  Introducing the QuantumPulse Smartwatch - a pe...   \n",
      "2  Experience lightning-fast charging with the Vo...   \n",
      "3  Capture stunning, high-resolution images with ...   \n",
      "4  Experience immersive sound with the SonicEcho ...   \n",
      "\n",
      "                                         ad_benefits  \n",
      "0  ['Wireless Bluetooth connectivity for seamless...  \n",
      "1  ['Monitor your health with precision sensors.'...  \n",
      "2  ['High-speed charging for multiple devices.', ...  \n",
      "3  ['High-resolution sensor for crisp, clear imag...  \n",
      "4  ['Wireless connectivity for seamless streaming...  \n"
     ]
    }
   ],
   "source": [
    "url = \"https://raw.githubusercontent.com/m1chae11u/llm-ad-integration/main/generated_ad_dataset.csv\"\n",
    "df = pd.read_csv(url)\n",
    "print(df.head())"
   ]
  },
  {
   "cell_type": "markdown",
   "id": "9aa76d6e-f581-4784-bb65-c4fab2569963",
   "metadata": {},
   "source": [
    "## Text Processing"
   ]
  },
  {
   "cell_type": "markdown",
   "id": "9ab056ea-e0c2-4bfa-b01f-504a85c1063f",
   "metadata": {},
   "source": [
    "Combining multiple structured columns into a single unstructured string that can be passed into an embedding model."
   ]
  },
  {
   "cell_type": "code",
   "execution_count": 10,
   "id": "06a75928-6e55-41b4-b87f-4a7d929f43ea",
   "metadata": {},
   "outputs": [
    {
     "data": {
      "text/plain": [
       "['EchoAir Earbuds. Experience sound like never before with EchoAir Earbuds, combining cutting-edge technology with unmatched comfort. Wireless Bluetooth connectivity for seamless audio streaming. Advanced noise-cancelling technology for immersive listening. High-fidelity sound quality for crystal clear audio. Ergonomic design ensures all-day comfort. Long-lasting battery life for extended playtime.',\n",
       " 'QuantumPulse Smartwatch. Introducing the QuantumPulse Smartwatch - a perfect blend of technology and style. Monitor your health with precision sensors. Stay connected with seamless notifications. Customizable watch faces to match your mood. Long-lasting battery life for all-day use.',\n",
       " 'VoltCharger Pro. Experience lightning-fast charging with the VoltCharger Pro, designed to power up all your devices with ease. High-speed charging for multiple devices. Compact and travel-friendly design. Compatible with a wide range of devices. Smart technology prevents overcharging. Durable and long-lasting build.']"
      ]
     },
     "execution_count": 10,
     "metadata": {},
     "output_type": "execute_result"
    }
   ],
   "source": [
    "# Combine relevant fields into a single string per ad\n",
    "def combine_fields(row):\n",
    "    benefits = eval(row['ad_benefits']) if isinstance(row['ad_benefits'], str) else []\n",
    "    return f\"{row['product']}. {row['ad_description']} {' '.join(benefits)}\"\n",
    "\n",
    "ad_texts = df.apply(combine_fields, axis=1).tolist()\n",
    "\n",
    "# Preview a few\n",
    "ad_texts[:3]"
   ]
  },
  {
   "cell_type": "markdown",
   "id": "6ca7cd20-0f09-4a58-82ea-e455798d86e2",
   "metadata": {},
   "source": [
    "## Embedding Ad Texts using Sentence Transformers"
   ]
  },
  {
   "cell_type": "markdown",
   "id": "23a54fa6-2416-4d4e-97ec-ada62ea261ef",
   "metadata": {},
   "source": [
    "Using a pretrained sentence embedding model (all-MiniLM-L6-v2) to convert ad texts into dense vector representations, which si embeddings. \n",
    "\n",
    "These embedding capture semantic meaning of eac ad in a numerical format that we can use later for similarity search, retrieval, or clustering. "
   ]
  },
  {
   "cell_type": "code",
   "execution_count": 13,
   "id": "8eddb835-451c-467e-adf1-ea7ff7e06096",
   "metadata": {},
   "outputs": [
    {
     "data": {
      "application/vnd.jupyter.widget-view+json": {
       "model_id": "28cb3da0717b4765a7ba593d14b3daa9",
       "version_major": 2,
       "version_minor": 0
      },
      "text/plain": [
       "Batches:   0%|          | 0/133 [00:00<?, ?it/s]"
      ]
     },
     "metadata": {},
     "output_type": "display_data"
    },
    {
     "name": "stdout",
     "output_type": "stream",
     "text": [
      "Generated 4251 embeddings with shape (4251, 384)\n"
     ]
    }
   ],
   "source": [
    "# Load model (fast + good)\n",
    "model = SentenceTransformer('all-MiniLM-L6-v2')\n",
    "\n",
    "# Embed the combined ad texts\n",
    "embeddings = model.encode(ad_texts, show_progress_bar=True, convert_to_numpy=True, normalize_embeddings=True)\n",
    "print(f\"Generated {len(embeddings)} embeddings with shape {embeddings.shape}\")"
   ]
  },
  {
   "cell_type": "markdown",
   "id": "6592add3-c6b9-4500-8e61-75afbab9d014",
   "metadata": {},
   "source": [
    "## Build and Save FAISS Index"
   ]
  },
  {
   "cell_type": "markdown",
   "id": "16a44eb0-ed93-422a-8db6-cceaf1f9b974",
   "metadata": {},
   "source": [
    "In this step, we are:\n",
    "- Builidng the FAISS Index using IndexFlatIP\n",
    "  + This will create a vector search index that can retrieve the most similar embeddings (based on inner product, which acts as cosine similarity when vectors are normalized)\n",
    "  - Then add our ad embeddings to that index."
   ]
  },
  {
   "cell_type": "code",
   "execution_count": 16,
   "id": "a0f270d7-4b6f-45d0-bb79-1dda691131fc",
   "metadata": {},
   "outputs": [
    {
     "name": "stdout",
     "output_type": "stream",
     "text": [
      "Saved index to 'faiss_ad_index.index'\n"
     ]
    }
   ],
   "source": [
    "# Build FAISS index with cosine similarity (normalized vectors + IP)\n",
    "dimension = embeddings.shape[1]\n",
    "index = faiss.IndexFlatIP(dimension)\n",
    "index.add(embeddings)\n",
    "\n",
    "# Save index to file\n",
    "faiss.write_index(index, \"faiss_ad_index.index\")\n",
    "print(\"Saved index to 'faiss_ad_index.index'\")"
   ]
  },
  {
   "cell_type": "markdown",
   "id": "75e3f65b-e963-4628-9120-c643f297b589",
   "metadata": {},
   "source": [
    "## Saving Text Metadata for Retrieval"
   ]
  },
  {
   "cell_type": "markdown",
   "id": "63f81f28-31cb-470b-968f-f933599aa32e",
   "metadata": {},
   "source": [
    "Saving the original ad texts (the ones that were embedded) to a JSON file so that:\n",
    "- When we retrieve vectors from the FAISS index, we can map the results back to the actual ad content.\n",
    "- This is like a lookup table between numeric vectors and their corresponding human-readable text."
   ]
  },
  {
   "cell_type": "code",
   "execution_count": 19,
   "id": "afc97ae4-4b1b-4136-95f6-411329e385ca",
   "metadata": {},
   "outputs": [
    {
     "name": "stdout",
     "output_type": "stream",
     "text": [
      "Saved ad texts to 'ad_texts.json'\n"
     ]
    }
   ],
   "source": [
    "# Save the embedding texts (used for retrieval reference)\n",
    "with open(\"ad_texts.json\", \"w\", encoding=\"utf-8\") as f:\n",
    "    json.dump(ad_texts, f, indent=2, ensure_ascii=False)\n",
    "\n",
    "print(\"Saved ad texts to 'ad_texts.json'\")"
   ]
  }
 ],
 "metadata": {
  "kernelspec": {
   "display_name": "Python 3 (ipykernel)",
   "language": "python",
   "name": "python3"
  },
  "language_info": {
   "codemirror_mode": {
    "name": "ipython",
    "version": 3
   },
   "file_extension": ".py",
   "mimetype": "text/x-python",
   "name": "python",
   "nbconvert_exporter": "python",
   "pygments_lexer": "ipython3",
   "version": "3.12.2"
  }
 },
 "nbformat": 4,
 "nbformat_minor": 5
}
